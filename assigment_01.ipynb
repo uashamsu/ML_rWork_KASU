{
 "cells": [
  {
   "cell_type": "markdown",
   "metadata": {},
   "source": [
    "# 30 Days of Python\n",
    "\n",
    "## Week 1: Basics of Python\n",
    "1. **Day 1:** \n",
    "   - Install Python and set up your development environment (e.g., VS Code, PyCharm).\n",
    "   - Write a simple \"Hello, World!\" program.\n"
   ]
  },
  {
   "cell_type": "code",
   "execution_count": 1,
   "metadata": {},
   "outputs": [
    {
     "name": "stdout",
     "output_type": "stream",
     "text": [
      "Hello\n"
     ]
    }
   ],
   "source": [
    "print(\"Hello\")"
   ]
  },
  {
   "cell_type": "markdown",
   "metadata": {},
   "source": [
    "\n",
    "2. **Day 2:**\n",
    "   - Create variables of different data types (integer, float, string, boolean).\n",
    "   - Perform basic operations (addition, subtraction, concatenation).\n",
    "\n"
   ]
  },
  {
   "cell_type": "code",
   "execution_count": 4,
   "metadata": {},
   "outputs": [
    {
     "name": "stdout",
     "output_type": "stream",
     "text": [
      "Addition: 5 Subtraction:1 Fullname:Shamsuddeen Umaru Adamu\n"
     ]
    }
   ],
   "source": [
    "addition = 2+3\n",
    "subtraction = 3-2\n",
    "fullname = \"Shamsuddeen \" + \"Umaru \" + \"Adamu\"\n",
    "print(f\"Addition: {addition} Subtraction:{subtraction} Fullname:{fullname}\")"
   ]
  },
  {
   "cell_type": "code",
   "execution_count": 3,
   "metadata": {},
   "outputs": [
    {
     "name": "stdout",
     "output_type": "stream",
     "text": [
      "Age:78 Price: 2.87 Name:batula Status: True\n"
     ]
    }
   ],
   "source": [
    "age = 78\n",
    "price = 2.87\n",
    "name = \"batula\"\n",
    "flag = True\n",
    "print(f\"Age:{age} Price: {price} Name:{name} Status: {flag}\")"
   ]
  },
  {
   "cell_type": "markdown",
   "metadata": {},
   "source": [
    "3. **Day 3:**\n",
    "   - Write expressions using different operators (arithmetic, comparison, logical).\n",
    "   - Practice with a few calculations and comparisons.\n",
    "\n"
   ]
  },
  {
   "cell_type": "code",
   "execution_count": 25,
   "metadata": {},
   "outputs": [
    {
     "name": "stdout",
     "output_type": "stream",
     "text": [
      "Expression_1: 4.6\n",
      "Expression_2: True, Expression_3: False, Epression_4: False\n"
     ]
    }
   ],
   "source": [
    "num1 = 5\n",
    "num2 = 7\n",
    "exp_1 = ((((num1**2) + num1) - num2) / num1)\n",
    "exp_2 = exp_1 < num1 \n",
    "exp_3 = exp_1 > num2\n",
    "exp_4 = exp_2 and exp_3\n",
    "print(f\"Expression_1: {exp_1}\")\n",
    "print(f\"Expression_2: {exp_2}, Expression_3: {exp_3}, Epression_4: {exp_4}\")\n"
   ]
  },
  {
   "cell_type": "code",
   "execution_count": 41,
   "metadata": {},
   "outputs": [
    {
     "name": "stdout",
     "output_type": "stream",
     "text": [
      "value of x1:27 value of x2: 15\n",
      "Max:27, Min:15\n"
     ]
    }
   ],
   "source": [
    "a = 2\n",
    "x = 3\n",
    "b = 2\n",
    "c = 3\n",
    "x1 = (((x**2)*a) + x*b + c)\n",
    "x2 = (((x**2)*a) - x*b + c)\n",
    "max = x1 if (x1 > x2) else x2\n",
    "min = x2 if (x2 < x1) else x1\n",
    "print(f\"value of x1:{x1} value of x2: {x2}\")\n",
    "print(f\"Max:{max}, Min:{min}\")\n"
   ]
  },
  {
   "cell_type": "markdown",
   "metadata": {},
   "source": [
    "4. **Day 4:**\n",
    "   - Write an if-else statement to check if a number is even or odd.\n",
    "   - Write a program to check if a given year is a leap year.\n",
    "\n"
   ]
  },
  {
   "cell_type": "code",
   "execution_count": 46,
   "metadata": {},
   "outputs": [
    {
     "name": "stdout",
     "output_type": "stream",
     "text": [
      "Number is EVEN:112\n"
     ]
    }
   ],
   "source": [
    "number = 112\n",
    "if (number%2 == 0 ):\n",
    "    print(f\"Number is EVEN:{number}\")\n",
    "else:\n",
    "    print(f\"Number is ODD:{number}\")"
   ]
  },
  {
   "cell_type": "code",
   "execution_count": 62,
   "metadata": {},
   "outputs": [
    {
     "name": "stdout",
     "output_type": "stream",
     "text": [
      "   February 2016\n",
      "Mo Tu We Th Fr Sa Su\n",
      " 1  2  3  4  5  6  7\n",
      " 8  9 10 11 12 13 14\n",
      "15 16 17 18 19 20 21\n",
      "22 23 24 25 26 27 28\n",
      "29\n",
      "\n",
      "2016 is leap year\n"
     ]
    }
   ],
   "source": [
    "import calendar\n",
    "year = 2016\n",
    "month = 2\n",
    "print(calendar.month(year, month))\n",
    "\n",
    "def is_leap_year():\n",
    "    return (year % 400 == 0) or (year%4 == 0 and year%100 != 0)\n",
    "if(is_leap_year()):\n",
    "    print(f\"{year} is leap year\")\n",
    "else:\n",
    "    print(f\"{year} is not leap year\")"
   ]
  },
  {
   "cell_type": "markdown",
   "metadata": {},
   "source": [
    "5. **Day 5:**\n",
    "   - Write a program using a for loop to print numbers from 1 to 10.\n",
    "   - Write a program using a while loop to print the first 10 Fibonacci numbers.\n",
    "\n"
   ]
  },
  {
   "cell_type": "code",
   "execution_count": null,
   "metadata": {},
   "outputs": [],
   "source": []
  },
  {
   "cell_type": "markdown",
   "metadata": {},
   "source": [
    "6. **Day 6:**\n",
    "   - Write a function to calculate the factorial of a number.\n",
    "   - Write a function to check if a string is a palindrome.\n"
   ]
  },
  {
   "cell_type": "code",
   "execution_count": null,
   "metadata": {},
   "outputs": [],
   "source": []
  },
  {
   "cell_type": "markdown",
   "metadata": {},
   "source": [
    "7. **Day 7:**\n",
    "   - Create a mini-project: A simple calculator that can add, subtract, multiply, and divide two numbers.\n",
    "   - Practice exercises: Find the largest number in a list, count vowels in a string.\n",
    "\n"
   ]
  },
  {
   "cell_type": "code",
   "execution_count": null,
   "metadata": {},
   "outputs": [],
   "source": []
  },
  {
   "cell_type": "markdown",
   "metadata": {},
   "source": [
    "## Week 2: Data Structures and Functions\n",
    "8. **Day 8:**\n",
    "   - Create a list and perform operations like append, insert, remove, and sort.\n",
    "   - Write a program to find the second largest element in a list.\n",
    "\n"
   ]
  },
  {
   "cell_type": "code",
   "execution_count": null,
   "metadata": {},
   "outputs": [],
   "source": []
  },
  {
   "cell_type": "markdown",
   "metadata": {
    "vscode": {
     "languageId": "plaintext"
    }
   },
   "source": [
    "9. **Day 9:**\n",
    "   - Create a tuple and a set. Perform operations like union, intersection, and difference on sets.\n",
    "   - Write a program to count the number of unique elements in a list using a set.\n",
    "\n"
   ]
  },
  {
   "cell_type": "code",
   "execution_count": null,
   "metadata": {},
   "outputs": [],
   "source": []
  },
  {
   "cell_type": "markdown",
   "metadata": {},
   "source": [
    "10. **Day 10:**\n",
    "    - Create a dictionary and perform operations like adding, updating, and deleting key-value pairs.\n",
    "    - Write a program to count the frequency of each character in a string.\n",
    "\n"
   ]
  },
  {
   "cell_type": "code",
   "execution_count": null,
   "metadata": {},
   "outputs": [],
   "source": []
  },
  {
   "cell_type": "markdown",
   "metadata": {},
   "source": [
    "11. **Day 11:**\n",
    "    - Write a list comprehension to create a list of squares of numbers from 1 to 10.\n",
    "    - Write a generator expression to create an infinite sequence of even numbers.\n",
    "\n"
   ]
  },
  {
   "cell_type": "code",
   "execution_count": null,
   "metadata": {},
   "outputs": [],
   "source": []
  },
  {
   "cell_type": "markdown",
   "metadata": {},
   "source": [
    "12. **Day 12:**\n",
    "    - Write a recursive function to calculate the nth Fibonacci number.\n",
    "    - Write a lambda function to double a number and use it with the map function to double each number in a list.\n",
    "\n"
   ]
  },
  {
   "cell_type": "code",
   "execution_count": null,
   "metadata": {},
   "outputs": [],
   "source": []
  },
  {
   "cell_type": "markdown",
   "metadata": {},
   "source": [
    "13. **Day 13:**\n",
    "    - Create your own module with a few utility functions and import it into another script.\n",
    "    - Write a program to use the math module for some mathematical operations like square root, power, and trigonometric functions.\n",
    "\n"
   ]
  },
  {
   "cell_type": "code",
   "execution_count": null,
   "metadata": {},
   "outputs": [],
   "source": []
  },
  {
   "cell_type": "markdown",
   "metadata": {},
   "source": [
    "14. **Day 14:**\n",
    "    - Create a mini-project: A simple to-do list application that allows adding, removing, and displaying tasks.\n",
    "    - Practice exercises: Merge two dictionaries, find the most common word in a text.\n",
    "\n"
   ]
  },
  {
   "cell_type": "code",
   "execution_count": null,
   "metadata": {},
   "outputs": [],
   "source": []
  },
  {
   "cell_type": "markdown",
   "metadata": {},
   "source": [
    "## Week 3: Advanced Topics\n",
    "15. **Day 15:**\n",
    "    - Write a program to read a text file and count the number of lines, words, and characters.\n",
    "    - Write a program to write user input to a file.\n",
    "\n"
   ]
  },
  {
   "cell_type": "code",
   "execution_count": null,
   "metadata": {},
   "outputs": [],
   "source": []
  },
  {
   "cell_type": "markdown",
   "metadata": {},
   "source": [
    "16. **Day 16:**\n",
    "    - Write a program to handle exceptions when dividing by zero and when trying to open a non-existent file.\n",
    "    - Practice using try-except-else-finally blocks.\n",
    "\n"
   ]
  },
  {
   "cell_type": "code",
   "execution_count": null,
   "metadata": {},
   "outputs": [],
   "source": []
  },
  {
   "cell_type": "markdown",
   "metadata": {},
   "source": [
    "17. **Day 17:**\n",
    "    - Write a program to display the current date and time.\n",
    "    - Write a program to calculate the number of days between two dates.\n"
   ]
  },
  {
   "cell_type": "code",
   "execution_count": null,
   "metadata": {},
   "outputs": [],
   "source": []
  },
  {
   "cell_type": "markdown",
   "metadata": {},
   "source": [
    "18. **Day 18:**\n",
    "    - Write a program to validate an email address using regular expressions.\n",
    "    - Write a program to find all occurrences of a word in a text using regular expressions.\n",
    "\n"
   ]
  },
  {
   "cell_type": "code",
   "execution_count": null,
   "metadata": {},
   "outputs": [],
   "source": []
  },
  {
   "cell_type": "markdown",
   "metadata": {},
   "source": [
    "19. **Day 19:**\n",
    "    - Create a class to represent a bank account with methods to deposit, withdraw, and check balance.\n",
    "    - Write a program to create multiple bank accounts and perform operations on them.\n",
    "\n"
   ]
  },
  {
   "cell_type": "code",
   "execution_count": null,
   "metadata": {},
   "outputs": [],
   "source": []
  },
  {
   "cell_type": "markdown",
   "metadata": {},
   "source": [
    "20. **Day 20:**\n",
    "    - Create a base class and a derived class to demonstrate inheritance.\n",
    "    - Write a program to create a hierarchy of classes representing different types of vehicles.\n",
    "\n"
   ]
  },
  {
   "cell_type": "code",
   "execution_count": null,
   "metadata": {},
   "outputs": [],
   "source": []
  },
  {
   "cell_type": "markdown",
   "metadata": {},
   "source": [
    "21. **Day 21:**\n",
    "    - Create a mini-project: A simple contact book application with CRUD operations.\n",
    "    - Practice exercises: Implement a stack using a list, check if a string is a valid palindrome using a class.\n",
    "\n"
   ]
  },
  {
   "cell_type": "code",
   "execution_count": null,
   "metadata": {},
   "outputs": [],
   "source": []
  },
  {
   "cell_type": "markdown",
   "metadata": {},
   "source": [
    "## Week 4: Libraries and Final Project\n",
    "22. **Day 22:**\n",
    "    - Write a program to create a NumPy array and perform basic operations like addition, multiplication, and indexing.\n",
    "    - Write a program to calculate the mean, median, and standard deviation of a NumPy array.\n",
    "\n"
   ]
  },
  {
   "cell_type": "code",
   "execution_count": null,
   "metadata": {},
   "outputs": [],
   "source": []
  },
  {
   "cell_type": "markdown",
   "metadata": {},
   "source": [
    "23. **Day 23:**\n",
    "    - Write a program to create a pandas DataFrame and perform operations like selecting, filtering, and grouping data.\n",
    "    - Write a program to read data from a CSV file into a DataFrame and perform some basic data analysis.\n",
    "\n"
   ]
  },
  {
   "cell_type": "code",
   "execution_count": null,
   "metadata": {},
   "outputs": [],
   "source": []
  },
  {
   "cell_type": "markdown",
   "metadata": {},
   "source": [
    "24. **Day 24:**\n",
    "    - Write a program to create a simple line plot using matplotlib.\n",
    "    - Write a program to create a bar chart and a scatter plot using matplotlib.\n",
    "\n"
   ]
  },
  {
   "cell_type": "code",
   "execution_count": null,
   "metadata": {},
   "outputs": [],
   "source": []
  },
  {
   "cell_type": "markdown",
   "metadata": {},
   "source": [
    "25. **Day 25:**\n",
    "    - Write a program to scrape the title and URL of the latest articles from a website using BeautifulSoup.\n",
    "    - Write a program to scrape data from multiple pages of a website and save it to a CSV file.\n"
   ]
  },
  {
   "cell_type": "code",
   "execution_count": null,
   "metadata": {},
   "outputs": [],
   "source": []
  },
  {
   "cell_type": "markdown",
   "metadata": {},
   "source": [
    "\n",
    "26. **Day 26:**\n",
    "    - Write a program to make a GET request to a REST API and display the response.\n",
    "    - Write a program to make a POST request to a REST API with some data and display the response.\n"
   ]
  },
  {
   "cell_type": "code",
   "execution_count": null,
   "metadata": {},
   "outputs": [],
   "source": []
  },
  {
   "cell_type": "markdown",
   "metadata": {},
   "source": [
    "\n",
    "27. **Day 27:**\n",
    "    - Write a program to read data from a JSON file and display it.\n",
    "    - Write a program to convert data from a CSV file to a JSON file.\n"
   ]
  },
  {
   "cell_type": "code",
   "execution_count": null,
   "metadata": {},
   "outputs": [],
   "source": []
  },
  {
   "cell_type": "markdown",
   "metadata": {},
   "source": [
    "\n",
    "28. **Day 28:**\n",
    "    - Create a mini-project: A simple weather application that fetches weather data from an API and displays it.\n",
    "    - Practice exercises: Merge two pandas DataFrames, plot a histogram of data using matplotlib.\n"
   ]
  },
  {
   "cell_type": "code",
   "execution_count": null,
   "metadata": {},
   "outputs": [],
   "source": []
  },
  {
   "cell_type": "markdown",
   "metadata": {},
   "source": [
    "\n",
    "29. **Day 29:**\n",
    "    - Plan your final project: Define the scope, requirements, and design of the project.\n",
    "    - Set up the project structure and create a GitHub repository for version control.\n"
   ]
  },
  {
   "cell_type": "code",
   "execution_count": null,
   "metadata": {},
   "outputs": [],
   "source": []
  },
  {
   "cell_type": "markdown",
   "metadata": {},
   "source": [
    "\n",
    "30. **Day 30:**\n",
    "    - Implement the final project: Write the code, test, and debug.\n",
    "    - Document your project and create a README file with instructions on how to use it."
   ]
  },
  {
   "cell_type": "code",
   "execution_count": null,
   "metadata": {},
   "outputs": [],
   "source": []
  },
  {
   "cell_type": "markdown",
   "metadata": {},
   "source": [
    "## Can you tell us the experience you have with this lessons?"
   ]
  },
  {
   "cell_type": "markdown",
   "metadata": {},
   "source": [
    "# Write here"
   ]
  }
 ],
 "metadata": {
  "kernelspec": {
   "display_name": "base",
   "language": "python",
   "name": "python3"
  },
  "language_info": {
   "codemirror_mode": {
    "name": "ipython",
    "version": 3
   },
   "file_extension": ".py",
   "mimetype": "text/x-python",
   "name": "python",
   "nbconvert_exporter": "python",
   "pygments_lexer": "ipython3",
   "version": "3.12.7"
  }
 },
 "nbformat": 4,
 "nbformat_minor": 2
}

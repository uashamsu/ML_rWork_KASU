{
 "cells": [
  {
   "cell_type": "markdown",
   "id": "incorrect-homeless",
   "metadata": {
    "slideshow": {
     "slide_type": "slide"
    }
   },
   "source": [
    "# Week 2: Recap of Programming Logic\n",
    "\n",
    "In today's tutorial, we'll cover:\n",
    "- If statements;\n",
    "- Loops and iteration;\n",
    "\n",
    "A set of exercises that will allow you to test your learning of this tutorial will also be made available.  "
   ]
  },
  {
   "cell_type": "markdown",
   "id": "appreciated-andrew",
   "metadata": {
    "slideshow": {
     "slide_type": "slide"
    }
   },
   "source": [
    "## Are you on the right track?\n",
    "\n",
    "In this track, we'll spend the first two days quickly covering a broad range of fundamental programming concepts in Python. This will be quite fast-paced, covering lots of material quite quickly. The expectation is that the pace will be suitable for those that have existing Python experience, but some participants might find that it is too quick. \n",
    "\n",
    "While there is some scope for taking the material at your own pace, if you'd prefer to learn the fundamentals of Python more slowly, then please let us know so that you can switch to the other track."
   ]
  },
  {
   "cell_type": "markdown",
   "id": "horizontal-decision",
   "metadata": {
    "slideshow": {
     "slide_type": "slide"
    }
   },
   "source": [
    "## Data types\n",
    "\n",
    "There are four main built-in data types in Python: booleans (something that can be `True` or `False`), integers (whole numbers), floats (numbers with a decimal point), and strings (pieces of text). A type is comprised of two components: the set of values that data of that type can take, and the operations that can be performed on values of the type."
   ]
  },
  {
   "cell_type": "markdown",
   "id": "asian-conducting",
   "metadata": {
    "slideshow": {
     "slide_type": "slide"
    }
   },
   "source": [
    "### Booleans\n",
    "\n",
    "A boolean is Python's simplest type, and data of this type can take one of two values: `True` or `False`. We can create a boolean is expression by using either of these two values, capitalised and without quotation marks:"
   ]
  },
  {
   "cell_type": "code",
   "execution_count": 1,
   "id": "worse-paint",
   "metadata": {
    "slideshow": {
     "slide_type": "fragment"
    }
   },
   "outputs": [],
   "source": [
    "my_boolean = True"
   ]
  },
  {
   "cell_type": "code",
   "execution_count": 2,
   "id": "6a246a05",
   "metadata": {},
   "outputs": [
    {
     "data": {
      "text/plain": [
       "bool"
      ]
     },
     "execution_count": 2,
     "metadata": {},
     "output_type": "execute_result"
    }
   ],
   "source": [
    "type(my_boolean)"
   ]
  },
  {
   "cell_type": "markdown",
   "id": "designed-influence",
   "metadata": {
    "slideshow": {
     "slide_type": "notes"
    }
   },
   "source": [
    "Now that we have boolean types, we can explore boolean operators and expressions. Many boolean operators allow us to compare two operands:"
   ]
  },
  {
   "cell_type": "code",
   "execution_count": 3,
   "id": "molecular-sculpture",
   "metadata": {
    "slideshow": {
     "slide_type": "slide"
    }
   },
   "outputs": [
    {
     "name": "stdout",
     "output_type": "stream",
     "text": [
      "False\n",
      "True\n",
      "False\n",
      "True\n",
      "False\n",
      "True\n"
     ]
    }
   ],
   "source": [
    "print(1 > 2)\n",
    "print(1 < 2)\n",
    "print(1 >= 2)\n",
    "print(1 <= 2)\n",
    "print(1 == 2)\n",
    "print(1 != 2)"
   ]
  },
  {
   "cell_type": "markdown",
   "id": "decimal-norway",
   "metadata": {
    "slideshow": {
     "slide_type": "notes"
    }
   },
   "source": [
    "This example compares two numbers (`1` and `2`) using various operators. These operators work as you would expect from arithmetic. `>` checks whether the first operand is greater than the second, and evaluates to `True` if it is, and `False` otherwise. `>=` is similar, but will evaluate to `True` if the first and second operands are equal. `<` and `<=` are similar, checking if the first operand is less than (`<`) or less than or equal to (`<=`) the second. Finally, `==` and `!=` check if the two operands are equal (`==`) or not equal (`!=`) to each other.\n",
    "\n",
    "These order and comparison operators also work with strings. Strings are compared in _lexicographic order_: that is, using the order that each character appears in the alphabet:"
   ]
  },
  {
   "cell_type": "code",
   "execution_count": 4,
   "id": "similar-guard",
   "metadata": {
    "scrolled": true,
    "slideshow": {
     "slide_type": "slide"
    }
   },
   "outputs": [
    {
     "name": "stdout",
     "output_type": "stream",
     "text": [
      "True\n",
      "True\n"
     ]
    }
   ],
   "source": [
    "print(\"Apple\" < \"Orange\")\n",
    "print(\"Apple\" < \"apple\")"
   ]
  },
  {
   "cell_type": "markdown",
   "id": "future-dairy",
   "metadata": {
    "slideshow": {
     "slide_type": "notes"
    }
   },
   "source": [
    "In this example, `True` is printed for the first line because `Apple` comes before `Orange` in the dictionary. In the second line, we're comparing `Apple` and `apple`. This evaluates to `True` because, in Python, uppercase letters come before lowercase letters.\n",
    "\n",
    "There are three other operators that we can use on boolean expressions:"
   ]
  },
  {
   "cell_type": "code",
   "execution_count": 5,
   "id": "commercial-profession",
   "metadata": {
    "slideshow": {
     "slide_type": "slide"
    }
   },
   "outputs": [
    {
     "name": "stdout",
     "output_type": "stream",
     "text": [
      "False\n",
      "True\n",
      "True\n"
     ]
    }
   ],
   "source": [
    "print(not my_boolean)\n",
    "print(my_boolean and my_boolean)\n",
    "print(my_boolean or my_boolean)"
   ]
  },
  {
   "cell_type": "markdown",
   "id": "valid-daisy",
   "metadata": {
    "slideshow": {
     "slide_type": "notes"
    }
   },
   "source": [
    "The first operator (`not`) is a _unary_ operator, which means that it has only one operand (this is opposed to the _binary_ operators we've seen so far, which have two operands). `not` evaluates the inverse of the operand: so `True` if the operand is `False`, or `False` if the operand is `True`. `and` evaluates to `True` only if both operands are `True`, while `or` evaluates to `True` if at least one of the operands is `True`."
   ]
  },
  {
   "cell_type": "markdown",
   "id": "close-occupation",
   "metadata": {
    "slideshow": {
     "slide_type": "slide"
    }
   },
   "source": [
    "### Integers and floats\n",
    "\n",
    "Python supports several numerical types. The main two types are integer (or `int`) and floating point numbers (or `float`):"
   ]
  },
  {
   "cell_type": "code",
   "execution_count": 6,
   "id": "hungry-israeli",
   "metadata": {
    "slideshow": {
     "slide_type": "fragment"
    }
   },
   "outputs": [
    {
     "name": "stdout",
     "output_type": "stream",
     "text": [
      "12\n",
      "12.3\n"
     ]
    }
   ],
   "source": [
    "my_int = 12\n",
    "my_float = 12.3\n",
    "print(my_int)\n",
    "print(my_float)"
   ]
  },
  {
   "cell_type": "code",
   "execution_count": 8,
   "id": "77bb2033",
   "metadata": {},
   "outputs": [
    {
     "data": {
      "text/plain": [
       "float"
      ]
     },
     "execution_count": 8,
     "metadata": {},
     "output_type": "execute_result"
    }
   ],
   "source": [
    "type(my_float)"
   ]
  },
  {
   "cell_type": "markdown",
   "id": "decent-parts",
   "metadata": {
    "slideshow": {
     "slide_type": "slide"
    }
   },
   "source": [
    "There are a range of mathematical and arithmetical operations that we can use with numbers. We'll talk about \"numbers\" in general, rather than integers and floats specifically, because Python will pick the correct type depending on the operator and operands. For example, if we add two integers:"
   ]
  },
  {
   "cell_type": "code",
   "execution_count": 9,
   "id": "confused-password",
   "metadata": {
    "slideshow": {
     "slide_type": "fragment"
    }
   },
   "outputs": [
    {
     "name": "stdout",
     "output_type": "stream",
     "text": [
      "2\n"
     ]
    }
   ],
   "source": [
    "print(1 + 1)"
   ]
  },
  {
   "cell_type": "markdown",
   "id": "enhanced-portable",
   "metadata": {
    "slideshow": {
     "slide_type": "fragment"
    }
   },
   "source": [
    "then we'll get an integer as a result. However, if we add an integer and a float:"
   ]
  },
  {
   "cell_type": "code",
   "execution_count": 10,
   "id": "manual-agency",
   "metadata": {
    "slideshow": {
     "slide_type": "fragment"
    }
   },
   "outputs": [
    {
     "name": "stdout",
     "output_type": "stream",
     "text": [
      "2.5\n"
     ]
    }
   ],
   "source": [
    "print(1 + 1.5)"
   ]
  },
  {
   "cell_type": "markdown",
   "id": "altered-clearance",
   "metadata": {
    "slideshow": {
     "slide_type": "fragment"
    }
   },
   "source": [
    "then we'll get a float as a result. Here are some of the other operations that we can perform:"
   ]
  },
  {
   "cell_type": "code",
   "execution_count": 11,
   "id": "related-prize",
   "metadata": {
    "scrolled": true,
    "slideshow": {
     "slide_type": "slide"
    }
   },
   "outputs": [
    {
     "name": "stdout",
     "output_type": "stream",
     "text": [
      "2\n",
      "5\n",
      "5.0\n",
      "6\n",
      "4\n"
     ]
    }
   ],
   "source": [
    "print(1 + 1) # addition\n",
    "print(10 - 5) # subtraction\n",
    "print(10 / 2) # division\n",
    "print(2 * 3) # multiplication\n",
    "print(2 ** 2) # mathematical power"
   ]
  },
  {
   "cell_type": "markdown",
   "id": "indie-device",
   "metadata": {
    "slideshow": {
     "slide_type": "slide"
    }
   },
   "source": [
    "### Strings\n",
    "\n",
    "A string is a piece of text, and these are represented in Python as a list of characters. To create a string in Python, we surround the text with quotes (either single (`'`) or double (`\"`)):"
   ]
  },
  {
   "cell_type": "code",
   "execution_count": 24,
   "id": "yellow-oxford",
   "metadata": {
    "slideshow": {
     "slide_type": "fragment"
    }
   },
   "outputs": [],
   "source": [
    "my_string = \"Hello, world\""
   ]
  },
  {
   "cell_type": "code",
   "execution_count": 13,
   "id": "6190ce9c",
   "metadata": {},
   "outputs": [
    {
     "data": {
      "text/plain": [
       "str"
      ]
     },
     "execution_count": 13,
     "metadata": {},
     "output_type": "execute_result"
    }
   ],
   "source": [
    "and = \"one\"\n",
    "type(my_int2)"
   ]
  },
  {
   "cell_type": "markdown",
   "id": "juvenile-champagne",
   "metadata": {
    "slideshow": {
     "slide_type": "notes"
    }
   },
   "source": [
    "The quotes indicate to the Python interpreter that this piece of text (`Hello, world`) is a string expression, and not a variable or function name. \n",
    "\n",
    "There are a number of operators that we can use with strings in Python. Some of the operators are _overloaded_ with those used for numbers:"
   ]
  },
  {
   "cell_type": "code",
   "execution_count": 16,
   "id": "straight-hierarchy",
   "metadata": {
    "scrolled": true,
    "slideshow": {
     "slide_type": "slide"
    }
   },
   "outputs": [
    {
     "name": "stdout",
     "output_type": "stream",
     "text": [
      "Hello, world, nice to meet you\n",
      "Hello, worldHello, world\n"
     ]
    }
   ],
   "source": [
    "print(my_string + \", nice to meet you\")\n",
    "print(my_string * 2)"
   ]
  },
  {
   "cell_type": "code",
   "execution_count": 17,
   "id": "fd6bdb50",
   "metadata": {},
   "outputs": [
    {
     "name": "stdout",
     "output_type": "stream",
     "text": [
      "Hello, world, nce to meet you\n"
     ]
    }
   ],
   "source": [
    "my_string = my_string + \", nce to meet you\"\n",
    "print(my_string)"
   ]
  },
  {
   "cell_type": "code",
   "execution_count": 22,
   "id": "402c7cfe",
   "metadata": {},
   "outputs": [
    {
     "name": "stdout",
     "output_type": "stream",
     "text": [
      "##################################################\n",
      "         Program to manage students\n",
      "##################################################\n"
     ]
    }
   ],
   "source": [
    "print(\"#\"*50) # what will be the output?\n",
    "print(\" \"*7,\" Program to manage students\")\n",
    "print(\"#\"*50)"
   ]
  },
  {
   "cell_type": "markdown",
   "id": "indoor-mouse",
   "metadata": {
    "slideshow": {
     "slide_type": "notes"
    }
   },
   "source": [
    "Overloading means that the same symbol is used to mean two different operations, depending on the type of the operands. In the example above, we can see that we can use `+` and `*` with strings. For strings, `+` means to concatenate (or join) the two operands together, while for `*`, it means to repeat the string the given number of times.\n",
    "\n",
    "Since Python represents strings as lists of characters, we'll see lots of useful operations and functions that we can use to work with strings later on in the week. For now, we can see one common function for finding the length of a string:"
   ]
  },
  {
   "cell_type": "code",
   "execution_count": 25,
   "id": "unlimited-screening",
   "metadata": {
    "slideshow": {
     "slide_type": "slide"
    }
   },
   "outputs": [
    {
     "name": "stdout",
     "output_type": "stream",
     "text": [
      "12\n"
     ]
    }
   ],
   "source": [
    "print(len(my_string))"
   ]
  },
  {
   "cell_type": "markdown",
   "id": "organic-investment",
   "metadata": {
    "slideshow": {
     "slide_type": "fragment"
    }
   },
   "source": [
    "The `len()` function evaluates to the length of the string -- `12` in this example."
   ]
  },
  {
   "cell_type": "markdown",
   "id": "retired-senior",
   "metadata": {
    "slideshow": {
     "slide_type": "slide"
    }
   },
   "source": [
    "### Dynamic typing and type()\n",
    "\n",
    "Python is _dynamically_ typed, as opposed to _statically_ typed. In statically typed languages, we need to explicitly state the type that variables hold. We don't do this in Python, as we've seen in the examples so far. This results in some interesting properties. For example, we can reassign the value of a variable to be of a different type:"
   ]
  },
  {
   "cell_type": "code",
   "execution_count": 26,
   "id": "durable-leave",
   "metadata": {
    "slideshow": {
     "slide_type": "fragment"
    }
   },
   "outputs": [
    {
     "data": {
      "text/plain": [
       "str"
      ]
     },
     "execution_count": 26,
     "metadata": {},
     "output_type": "execute_result"
    }
   ],
   "source": [
    "my_variable = 12\n",
    "my_variable = True\n",
    "my_variable = \"Foo\"\n",
    "type(my_variable)"
   ]
  },
  {
   "cell_type": "markdown",
   "id": "initial-hawaiian",
   "metadata": {
    "slideshow": {
     "slide_type": "notes"
    }
   },
   "source": [
    "This example is valid in Python. `my_variable` doesn't have an explicit type, and so it can be used to point to values of any type. Given this property, it can sometimes be useful to determine the type of value that a variable is pointing to:"
   ]
  },
  {
   "cell_type": "code",
   "execution_count": null,
   "id": "decimal-atlanta",
   "metadata": {
    "slideshow": {
     "slide_type": "slide"
    }
   },
   "outputs": [],
   "source": [
    "print(type(my_variable))"
   ]
  },
  {
   "cell_type": "markdown",
   "id": "comparative-moisture",
   "metadata": {
    "slideshow": {
     "slide_type": "notes"
    }
   },
   "source": [
    "This example will print `<class 'str'>`, indicating that `my_variable` is pointing to a string. While this can be useful, it is good practice to not mix the type that a given variable holds. This will make your programs easier to read and debug."
   ]
  },
  {
   "cell_type": "markdown",
   "id": "naval-overview",
   "metadata": {
    "slideshow": {
     "slide_type": "slide"
    }
   },
   "source": [
    "## Formatted Strings\n",
    "\n",
    "We've seen how to construct string expressions, and how to print output. Sometimes it can be useful to be able to create strings that combine expressions of different types together. For example, we might want to have a string that includes the result of a numerical calculation:"
   ]
  },
  {
   "cell_type": "code",
   "execution_count": 29,
   "id": "applicable-startup",
   "metadata": {
    "slideshow": {
     "slide_type": "fragment"
    }
   },
   "outputs": [
    {
     "name": "stdout",
     "output_type": "stream",
     "text": [
      "Your total bill is £69.07.\n"
     ]
    }
   ],
   "source": [
    "food_total = 55.62\n",
    "drinks_total = 13.45\n",
    "total_bill = f\"Your total bill is £{food_total + drinks_total}.\"\n",
    "print(total_bill)"
   ]
  },
  {
   "cell_type": "markdown",
   "id": "supposed-sport",
   "metadata": {
    "slideshow": {
     "slide_type": "notes"
    }
   },
   "source": [
    "In this example, we constructed a string that included the value of an expression. The string we constructed and assigned to the variable `total_bill` is a _formatted string_ or _f-string_. It is constructed like a normal string, using quotes, but has an `f` (or alternatively an `F`) before the opening quote. Inside the string, we surround expressions with curly braces (`{` and `}`). We'll see lots of uses for formatted strings throughout the week."
   ]
  },
  {
   "cell_type": "markdown",
   "id": "theoretical-government",
   "metadata": {
    "slideshow": {
     "slide_type": "slide"
    }
   },
   "source": [
    "## Getting user input from the keyboard\n",
    "\n",
    "Before we move on to exploring different flow control constructs in Python, we'll first learn how to allow user's to input data into our code. Obtaining user input is often essential for building useful programs. Tomorrow, we'll recap how to open files, and use data from them in our code. However, we can also allow users to type input from the keyboard:"
   ]
  },
  {
   "cell_type": "code",
   "execution_count": 32,
   "id": "designing-laugh",
   "metadata": {
    "scrolled": true,
    "slideshow": {
     "slide_type": "fragment"
    }
   },
   "outputs": [
    {
     "name": "stdout",
     "output_type": "stream",
     "text": [
      "Hello, 123, good to meet you!\n"
     ]
    }
   ],
   "source": [
    "name = input(\"What is your name: \")\n",
    "print(f\"Hello, {name}, good to meet you!\")"
   ]
  },
  {
   "cell_type": "code",
   "execution_count": 33,
   "id": "facdff44",
   "metadata": {},
   "outputs": [
    {
     "data": {
      "text/plain": [
       "str"
      ]
     },
     "execution_count": 33,
     "metadata": {},
     "output_type": "execute_result"
    }
   ],
   "source": [
    "type(name)"
   ]
  },
  {
   "cell_type": "code",
   "execution_count": null,
   "id": "bd4262b0",
   "metadata": {},
   "outputs": [],
   "source": [
    "public String input(String parameter){\n",
    "    return num1 + num2;\n",
    "}"
   ]
  },
  {
   "cell_type": "markdown",
   "id": "opposite-mouth",
   "metadata": {
    "slideshow": {
     "slide_type": "notes"
    }
   },
   "source": [
    "In this example, we use the `input` function to ask the user what their name is, store what they enter into a string labelled `name`, and then print a message -- using a formatted string -- that contains their name."
   ]
  },
  {
   "cell_type": "markdown",
   "id": "documentary-python",
   "metadata": {
    "slideshow": {
     "slide_type": "slide"
    }
   },
   "source": [
    "## `if` statements\n",
    "\n",
    "So far, all of the code that we've written has been _sequential_: Python's interpreter starts with the first line in the cell, and then continues to interpret each line in turn. We can visualise this with a simple diagram:"
   ]
  },
  {
   "cell_type": "markdown",
   "id": "instrumental-lightning",
   "metadata": {
    "slideshow": {
     "slide_type": "slide"
    }
   },
   "source": [
    "![Sequential flow](images/sequential_flow.png \"Sequential flow\")"
   ]
  },
  {
   "cell_type": "markdown",
   "id": "verified-behalf",
   "metadata": {
    "slideshow": {
     "slide_type": "notes"
    }
   },
   "source": [
    "This style of diagram is good for visualising the _flow_ of a program, or the order in which a program's statements are executed. We can see that a sequential flow is easy to follow and debug. However, it also limits our ability to write useful programs: we want to do different things based on the data that we have when we run our program.\n",
    "\n",
    "Python has a number of different flow control constructs that allow us to alter the flow of our program. We'll cover two of these in today's tutorial: `if` statements, for _conditional coding_, and `for` and `while` loops, that let us _iterate_."
   ]
  },
  {
   "cell_type": "markdown",
   "id": "equivalent-romania",
   "metadata": {
    "slideshow": {
     "slide_type": "slide"
    }
   },
   "source": [
    "Above, we recapped boolean expressions. These are expressions that evaluate to either `True` or `False`:"
   ]
  },
  {
   "cell_type": "code",
   "execution_count": 34,
   "id": "armed-literature",
   "metadata": {
    "slideshow": {
     "slide_type": "fragment"
    }
   },
   "outputs": [
    {
     "name": "stdout",
     "output_type": "stream",
     "text": [
      "True\n"
     ]
    }
   ],
   "source": [
    "my_boolean = 1 < 2\n",
    "print(my_boolean)"
   ]
  },
  {
   "cell_type": "markdown",
   "id": "comparative-bedroom",
   "metadata": {
    "slideshow": {
     "slide_type": "notes"
    }
   },
   "source": [
    "This example will output `True`, since the expression `1 < 2` evaluates to this value. We can also construct boolean expressions that use input from the keyboard:"
   ]
  },
  {
   "cell_type": "code",
   "execution_count": 38,
   "id": "large-interview",
   "metadata": {
    "slideshow": {
     "slide_type": "slide"
    }
   },
   "outputs": [
    {
     "name": "stdout",
     "output_type": "stream",
     "text": [
      "False\n"
     ]
    }
   ],
   "source": [
    "name = input(\"What is your name: \")\n",
    "called_bob = (name == \"Bob\")\n",
    "print(called_bob)"
   ]
  },
  {
   "cell_type": "markdown",
   "id": "internal-horse",
   "metadata": {
    "slideshow": {
     "slide_type": "notes"
    }
   },
   "source": [
    "The output of this program depends on the value that you enter when prompted for your name. If you enter `Bob`, then `True` is printed, while `False` is printed if any other name is entered. Try re-running the cell multiple times for different names to see how this works.\n",
    "\n",
    "In Python, we can use boolean expressions to introduce branches into our code. A branch is where the flow of our program divides into two (or more) paths. The simplest way of introducing branches into our code is using the `if` statement:"
   ]
  },
  {
   "cell_type": "code",
   "execution_count": 40,
   "id": "racial-ground",
   "metadata": {
    "slideshow": {
     "slide_type": "slide"
    }
   },
   "outputs": [
    {
     "name": "stdout",
     "output_type": "stream",
     "text": [
      "hello!\n",
      "welcome, bob! good to see you!\n",
      "goodbye bob!\n",
      "goodbye!\n"
     ]
    }
   ],
   "source": [
    "print(\"hello!\")\n",
    "if not called_bob:\n",
    "    print(\"welcome, bob! good to see you!\")\n",
    "    print(\"goodbye bob!\")\n",
    "print(\"goodbye!\")"
   ]
  },
  {
   "cell_type": "markdown",
   "id": "sunset-cricket",
   "metadata": {
    "slideshow": {
     "slide_type": "notes"
    }
   },
   "source": [
    "In this example, we'll always start by outputting the `hello!`. However, what happens next is dependent on the value held by the variable `called_bob`. If `called_bob` is `True`, then we'll enter the block that starts with `if called_bob:`; otherwise, we won't. Finally, we'll output `goodbye!`. Using the `if` statement, we've been able to write a program that isn't sequential: it has a branch, and what the program does depends on input from the keyboard. Try re-running the previous two cells in order, with different names, to see this.\n",
    "\n",
    "We can illustrate this new flow using a diagram:"
   ]
  },
  {
   "cell_type": "markdown",
   "id": "macro-phone",
   "metadata": {
    "slideshow": {
     "slide_type": "slide"
    }
   },
   "source": [
    "![If flow](images/if_flow.png \"If flow\")"
   ]
  },
  {
   "cell_type": "markdown",
   "id": "twenty-dancing",
   "metadata": {
    "slideshow": {
     "slide_type": "notes"
    }
   },
   "source": [
    "In the example above, we can see that the contents of the `if` statement are indented (i.e., there is whitespace at the start of the third line in the example above). In Python, indentation is important for denoting the contents of a block: a block ends when the indentation returns to being the same as before the block began. So, in the above example, if `called_bob` is `True`, then we'll print both of the messages contained in the block.\n",
    "\n",
    "If we change the indentation, we can alter what the program does. For example, if we wrote this instead:"
   ]
  },
  {
   "cell_type": "code",
   "execution_count": 44,
   "id": "obvious-frederick",
   "metadata": {
    "slideshow": {
     "slide_type": "slide"
    }
   },
   "outputs": [
    {
     "name": "stdout",
     "output_type": "stream",
     "text": [
      "hello!\n",
      "End of the semester!\n"
     ]
    }
   ],
   "source": [
    "print(\"hello!\")\n",
    "if called_bob:\n",
    "    print(\"welcome, bob! good to see you!\")\n",
    "    print(\"goodbye bob!\")\n",
    "    print(\"goodbye!\")\n"
   ]
  },
  {
   "cell_type": "markdown",
   "id": "biological-prison",
   "metadata": {
    "slideshow": {
     "slide_type": "notes"
    }
   },
   "source": [
    ".. then we'd only say `goodbye!` when the user is called `Bob` (and we'd do it twice!). In Python, it does not matter how the indentation is formatted. It is best practice to use four spaces, and this is most common. Some people also use tabs or two spaces. The only constraint is that the indentation style should be consistent: if you use four spaces to indent one line, then you must also use four spaces to indent the next line (if it is part of the same block). Mixing different indentation styles will likely cause an error, or give you unexpected results."
   ]
  },
  {
   "cell_type": "markdown",
   "id": "chemical-promotion",
   "metadata": {
    "slideshow": {
     "slide_type": "slide"
    }
   },
   "source": [
    "### `else` statements\n",
    "\n",
    "We've seen that we can introduce a branch using an `if` statement, where a block of code is executed if a given expression evaluates to `True`. However, we might want to do something else if the condition is `False`. In our example above, if the user is called Bob, we'll say hello and goodbye twice.\n",
    "\n",
    "To address this, we can pair this branch with another that is executed if the statement is `False`:"
   ]
  },
  {
   "cell_type": "code",
   "execution_count": null,
   "id": "conscious-slovenia",
   "metadata": {
    "slideshow": {
     "slide_type": "slide"
    }
   },
   "outputs": [],
   "source": [
    "if called_bob:\n",
    "    print(\"welcome, bob! good to see you!\")\n",
    "    print(\"goodbye bob!\")\n",
    "else:\n",
    "    print(\"hello!\")\n",
    "    print(\"goodbye!\")"
   ]
  },
  {
   "cell_type": "code",
   "execution_count": 49,
   "id": "2f30925d",
   "metadata": {},
   "outputs": [
    {
     "name": "stdout",
     "output_type": "stream",
     "text": [
      "3 is odd\n"
     ]
    }
   ],
   "source": [
    "num = input(\"Enter a nuber: \")\n",
    "if int(num) % 2 == 0:\n",
    "    print(f\"{num} if even\")\n",
    "else:\n",
    "    print(f\"{num} is odd\")"
   ]
  },
  {
   "cell_type": "markdown",
   "id": "cross-latest",
   "metadata": {
    "slideshow": {
     "slide_type": "notes"
    }
   },
   "source": [
    "In this example, there are two branches: we execute the first branch (beginning `if called_bob:`) if `called_bob` is `True`, or the second branch (beginning `else:`) if `called_bob` is `False`. That means that we can have separate messages for Bob and for people with different names. We can illustrate this with a diagram:"
   ]
  },
  {
   "cell_type": "markdown",
   "id": "raised-platform",
   "metadata": {
    "slideshow": {
     "slide_type": "slide"
    }
   },
   "source": [
    "![If-else flow](images/if_else.png \"If-else flow\")"
   ]
  },
  {
   "cell_type": "markdown",
   "id": "breeding-feedback",
   "metadata": {
    "slideshow": {
     "slide_type": "slide"
    }
   },
   "source": [
    "### `elif` statements\n",
    "\n",
    "We might want to have more than two branches in our code. To do that, we can use an `elif` (or \"else if\") statement:"
   ]
  },
  {
   "cell_type": "code",
   "execution_count": 50,
   "id": "right-chemistry",
   "metadata": {
    "slideshow": {
     "slide_type": "fragment"
    }
   },
   "outputs": [
    {
     "name": "stdout",
     "output_type": "stream",
     "text": [
      "oh no - I don't know who you are!\n"
     ]
    }
   ],
   "source": [
    "if called_bob:\n",
    "    print(\"ah - you're called Bob!\")\n",
    "elif name == \"Alice\":\n",
    "    print(\"welcome Alice!\")\n",
    "else:\n",
    "    print(\"oh no - I don't know who you are!\")"
   ]
  },
  {
   "cell_type": "markdown",
   "id": "strategic-revolution",
   "metadata": {
    "slideshow": {
     "slide_type": "notes"
    }
   },
   "source": [
    "In this example, there are three branches. The `if called_bob:` branch is executed if `called_bob` is `True`; `elif name == \"Alice\":` is executed if `called_bob` is not `True` and if `name` is equal to `Alice`; and `else:` is executed if `called_bob` is `False` _and_ `name` does not equal `Alice`. We can illustrate this flow using a diagram:"
   ]
  },
  {
   "cell_type": "markdown",
   "id": "secondary-semester",
   "metadata": {
    "slideshow": {
     "slide_type": "slide"
    }
   },
   "source": [
    "![If-elif-else flow](images/if-elif-else.png \"If-elif-else flow\")"
   ]
  },
  {
   "cell_type": "markdown",
   "id": "dental-upgrade",
   "metadata": {
    "slideshow": {
     "slide_type": "slide"
    }
   },
   "source": [
    "It is important to note that only one branch of an `if` statement is ever executed, even if several expressions are `True`:"
   ]
  },
  {
   "cell_type": "code",
   "execution_count": 53,
   "id": "separated-steering",
   "metadata": {
    "slideshow": {
     "slide_type": "fragment"
    }
   },
   "outputs": [
    {
     "name": "stdout",
     "output_type": "stream",
     "text": [
      "Greater than 6!\n"
     ]
    }
   ],
   "source": [
    "x = 32\n",
    "if x > 6:\n",
    "    print(\"Greater than 6!\")\n",
    "elif x < 16:\n",
    "    print(\"Less than 16!\")\n",
    "elif x < 3:\n",
    "    print(\"Less than 3!\")\n",
    "else:\n",
    "    print(\"Is some number!\")"
   ]
  },
  {
   "cell_type": "markdown",
   "id": "grateful-apollo",
   "metadata": {
    "slideshow": {
     "slide_type": "notes"
    }
   },
   "source": [
    "In this example, only the first block (beginning with `if x > 6:`) is executed, since this expression is the first that is `True`. We can also see from this example that multiple `elif` statements can be added to an `if` statement."
   ]
  },
  {
   "cell_type": "markdown",
   "id": "editorial-aside",
   "metadata": {
    "slideshow": {
     "slide_type": "slide"
    }
   },
   "source": [
    "## Iteration\n",
    "\n",
    "Now that we've seen that our programs can contain branches, we can think about other types of non-sequential flows through our code. One way that we can make the code that we write more powerful is to add iteration: that is, blocks of code that repeat. Python has a number of iteration constructs. We'll cover two categories of iteration in this tutorial: _indefinite_ iteration, where a block repeats until a boolean expression becomes `False`, and _definite_ iteration, where a block repeats for a specified number of times."
   ]
  },
  {
   "cell_type": "markdown",
   "id": "united-mortality",
   "metadata": {
    "slideshow": {
     "slide_type": "slide"
    }
   },
   "source": [
    "### Indefinite iteration (`while`)\n",
    "\n",
    "In the previous section, we saw how `if` statements make use of boolean expressions to introduce branches into our code. Using the `while` statement, we can also use boolean expressions to control how many times a block of code is executed. Returning to our name example, we might want to keep asking the user for their name, until we meet someone called `Bob`:"
   ]
  },
  {
   "cell_type": "code",
   "execution_count": 54,
   "id": "serious-suffering",
   "metadata": {
    "slideshow": {
     "slide_type": "fragment"
    }
   },
   "outputs": [
    {
     "name": "stdout",
     "output_type": "stream",
     "text": [
      "Sorry, Dauda, I'm looking for Bob!\n",
      "Sorry, Abba, I'm looking for Bob!\n",
      "Sorry, bob, I'm looking for Bob!\n",
      "Sorry, bob, I'm looking for Bob!\n"
     ]
    }
   ],
   "source": [
    "name = input(\"What is your name: \")\n",
    "while name != \"Bob\":\n",
    "    print(f\"Sorry, {name}, I'm looking for Bob!\")\n",
    "    name = input(\"What is your name: \")"
   ]
  },
  {
   "cell_type": "markdown",
   "id": "desirable-professional",
   "metadata": {
    "slideshow": {
     "slide_type": "slide"
    }
   },
   "source": [
    "When you run the cell above, it will keep asking for your name until you enter `Bob`. This illustrates the general form of a `while` loop: the block that it starts is executed repeatedly until the given boolean expression evaluates to `False`. The boolean expression is evaluated at the start of each loop, so to avoid infinite loops, the expression must be in terms of something that changes within the loop."
   ]
  },
  {
   "cell_type": "markdown",
   "id": "selective-trail",
   "metadata": {
    "slideshow": {
     "slide_type": "slide"
    }
   },
   "source": [
    "![While flow](images/while_loop.png \"While flow\")"
   ]
  },
  {
   "cell_type": "markdown",
   "id": "national-baptist",
   "metadata": {
    "slideshow": {
     "slide_type": "slide"
    }
   },
   "source": [
    "We can use any boolean expression in the `while` loop, including one that compares numbers:"
   ]
  },
  {
   "cell_type": "code",
   "execution_count": 55,
   "id": "enclosed-dutch",
   "metadata": {
    "slideshow": {
     "slide_type": "fragment"
    }
   },
   "outputs": [
    {
     "name": "stdout",
     "output_type": "stream",
     "text": [
      "0\n",
      "1\n",
      "2\n",
      "3\n",
      "4\n"
     ]
    }
   ],
   "source": [
    "i = 0\n",
    "while i < 5:\n",
    "    print(i)\n",
    "    i += 1"
   ]
  },
  {
   "cell_type": "markdown",
   "id": "aggressive-calendar",
   "metadata": {
    "slideshow": {
     "slide_type": "notes"
    }
   },
   "source": [
    "In this example, we set `i` to `0`, and then specify a loop that, `while` `i` is less than `5`, will print `i`, and then add one to its current value. This introduces the `+=` statement: for numbers, you can think of this expanding to `i = i + 1`."
   ]
  },
  {
   "cell_type": "markdown",
   "id": "determined-ballet",
   "metadata": {
    "slideshow": {
     "slide_type": "slide"
    }
   },
   "source": [
    "### Definite iteration (`for`)"
   ]
  },
  {
   "cell_type": "markdown",
   "id": "special-monte",
   "metadata": {},
   "source": [
    "Our last example introduces a common pattern: we have a block of code that we want to execute for a set number of times (in the last example, 5 times). This is _definite_ iteration: rather than repeating while a condition is `True`, we repeat for a known number of iterations. In Python, we can do this using the `for` statement, combined with the `range` function:"
   ]
  },
  {
   "cell_type": "code",
   "execution_count": 58,
   "id": "intelligent-judges",
   "metadata": {
    "slideshow": {
     "slide_type": "fragment"
    }
   },
   "outputs": [
    {
     "name": "stdout",
     "output_type": "stream",
     "text": [
      "1\n",
      "2\n",
      "3\n",
      "4\n"
     ]
    }
   ],
   "source": [
    "for i in range(1,5,1):\n",
    "    print(i)"
   ]
  },
  {
   "cell_type": "markdown",
   "id": "accompanied-consultancy",
   "metadata": {
    "slideshow": {
     "slide_type": "notes"
    }
   },
   "source": [
    "We can see that this does exactly the same thing as the previous example, but that this code is much more concise. In general, we want to write less code where possible, so that it is easier to read and understand. The `range` function is important here: it dictates how the loop works. In its simplest form, we give `range` a single number, and the `for` loop will iterate that number of times, setting the variable (`i` in this example) first to `0`, and then to each whole number until it has finished. So, in the above example, `i` starts at `0` in the first iteration, and then increases by `1` for each subsequent iteration. We can also tell `range` to start at a number than isn't `0`:"
   ]
  },
  {
   "cell_type": "code",
   "execution_count": null,
   "id": "democratic-delhi",
   "metadata": {
    "slideshow": {
     "slide_type": "slide"
    }
   },
   "outputs": [],
   "source": [
    "for i in range(2, 5):\n",
    "    print(i)"
   ]
  },
  {
   "cell_type": "markdown",
   "id": "pursuant-atlas",
   "metadata": {
    "slideshow": {
     "slide_type": "fragment"
    }
   },
   "source": [
    "In this case, `i` is set to `2` for the first iteration, and increments by `1` for each subsequent iteration. The total number of iterations is `end` minus `start`, where `start` is `2` and `end` is `5` in this example, giving 3 iterations. Finally, we can also tell `range` to step in increments that are greater than `1`:"
   ]
  },
  {
   "cell_type": "code",
   "execution_count": null,
   "id": "entertaining-beverage",
   "metadata": {
    "slideshow": {
     "slide_type": "slide"
    }
   },
   "outputs": [],
   "source": [
    "for i in range(0, 10, 2):\n",
    "    print(i)"
   ]
  },
  {
   "cell_type": "markdown",
   "id": "aware-smart",
   "metadata": {
    "slideshow": {
     "slide_type": "fragment"
    }
   },
   "source": [
    "Here, `i` is set to `0` for the first iteration, and then increments by `2` for each subsequent iteration. The total number of iterations is `end` minus `start`, divided by `increment`, giving `10` minus `0` divided by `2`, or 5 iterations, in this example."
   ]
  },
  {
   "cell_type": "markdown",
   "id": "renewable-prisoner",
   "metadata": {
    "slideshow": {
     "slide_type": "slide"
    }
   },
   "source": [
    "## Nested blocks\n",
    "\n",
    "So far, we've seen several different block structures that are available in Python. These constructs can be nested together:"
   ]
  },
  {
   "cell_type": "code",
   "execution_count": 59,
   "id": "random-atlantic",
   "metadata": {
    "slideshow": {
     "slide_type": "fragment"
    }
   },
   "outputs": [
    {
     "name": "stdout",
     "output_type": "stream",
     "text": [
      "It's 0.. boring!\n",
      "It's 1.. boring!\n",
      "It's 2! Hello 2!\n",
      "It's 3.. boring!\n",
      "It's 4.. boring!\n"
     ]
    }
   ],
   "source": [
    "for i in range(5):\n",
    "    if i == 2:\n",
    "        print(\"It's 2! Hello 2!\")\n",
    "    else:\n",
    "        print(f\"It's {i}.. boring!\")"
   ]
  },
  {
   "cell_type": "markdown",
   "id": "incorrect-retreat",
   "metadata": {
    "slideshow": {
     "slide_type": "slide"
    }
   },
   "source": [
    "In this example, we've nested an `if` statement within a `for` loop, to print a message that depends on the current value of `i`. We can also nest loops within each other:"
   ]
  },
  {
   "cell_type": "code",
   "execution_count": 60,
   "id": "funded-easter",
   "metadata": {
    "slideshow": {
     "slide_type": "fragment"
    }
   },
   "outputs": [
    {
     "name": "stdout",
     "output_type": "stream",
     "text": [
      "i is 0..\n",
      ".. j is 0\n",
      ".. j is 1\n",
      ".. j is 2\n",
      "i is 1..\n",
      ".. j is 0\n",
      ".. j is 1\n",
      ".. j is 2\n",
      "i is 2..\n",
      ".. j is 0\n",
      ".. j is 1\n",
      ".. j is 2\n",
      "i is 3..\n",
      ".. j is 0\n",
      ".. j is 1\n",
      ".. j is 2\n",
      "i is 4..\n",
      ".. j is 0\n",
      ".. j is 1\n",
      ".. j is 2\n"
     ]
    }
   ],
   "source": [
    "for i in range(5):\n",
    "    print(f\"i is {i}..\")\n",
    "    for j in range(3):\n",
    "        print(f\".. j is {j}\")"
   ]
  },
  {
   "cell_type": "markdown",
   "id": "touched-humor",
   "metadata": {
    "slideshow": {
     "slide_type": "notes"
    }
   },
   "source": [
    "We can see that the flow follows logically from the definition of a `for` loop: for each iteration of the outer loop (i.e., the one that iterates through values of `i`), we print the value of `i`, and then execute the inner loop (i.e., the one that iterates through values of `j`). \n",
    "\n",
    "This example also demonstrates a common naming convention. Where counters are used, like in the examples above, their variables are often labelled `i`, with inner loops labelled `j`, and loops within those inner loops labelled `k`."
   ]
  },
  {
   "cell_type": "markdown",
   "id": "cathedral-turtle",
   "metadata": {
    "slideshow": {
     "slide_type": "slide"
    }
   },
   "source": [
    "## Break and continue\n",
    "\n",
    "Now that we can nest `if` statements within loops, we can use these to alter the flow of the loop. There are two statements that we can use: `break` which ends the whole loop, and `continue`, which ends the current iteration of the loop, and starts at the top of the loop with the next iteration. For example:"
   ]
  },
  {
   "cell_type": "code",
   "execution_count": 61,
   "id": "unexpected-charleston",
   "metadata": {
    "slideshow": {
     "slide_type": "fragment"
    }
   },
   "outputs": [
    {
     "name": "stdout",
     "output_type": "stream",
     "text": [
      "0\n",
      "1\n",
      "2\n",
      "3\n"
     ]
    }
   ],
   "source": [
    "for i in range(5):\n",
    "    print(i)\n",
    "    if i == 3:\n",
    "        break"
   ]
  },
  {
   "cell_type": "markdown",
   "id": "massive-mainland",
   "metadata": {
    "slideshow": {
     "slide_type": "slide"
    }
   },
   "source": [
    "In this example, we construct a `for` loop that should iterate through the numbers 0 to 4. Inside the loop, however, the `if` statement evaluates the current value of `i`, and `break`s if it is equal to `3`. This means that we only iterate until `i` equals `3`. In addition, we can skip an iteration:"
   ]
  },
  {
   "cell_type": "code",
   "execution_count": 62,
   "id": "designed-diary",
   "metadata": {
    "slideshow": {
     "slide_type": "fragment"
    }
   },
   "outputs": [
    {
     "name": "stdout",
     "output_type": "stream",
     "text": [
      "0\n",
      "1\n",
      "2\n",
      "4\n"
     ]
    }
   ],
   "source": [
    "for i in range(5):\n",
    "    if i == 3:\n",
    "        continue\n",
    "    print(i)"
   ]
  },
  {
   "cell_type": "markdown",
   "id": "ecological-father",
   "metadata": {
    "slideshow": {
     "slide_type": "notes"
    }
   },
   "source": [
    "This time, we print the numbers 0 through 4, _excluding_ 3, since we `continue` when `i` is equal to `3`. Both of these statements can be used inside `while` loops too, and there'll be exercises that explore how they behave there.\n",
    "\n",
    "While these statements can sometimes be useful, they also make the flow of our program much more confusing. In general, it is best practice to avoid using `break` and `continue` where possible. There is usually a much better way of expressing the same flow. Typically, this is by using a `while` loop with a well-defined boolean expression, rather than a `for` loop. We'll cover some examples in the exercises."
   ]
  },
  {
   "cell_type": "markdown",
   "id": "unsigned-payday",
   "metadata": {
    "slideshow": {
     "slide_type": "slide"
    }
   },
   "source": [
    "## Lists\n",
    "\n",
    "So far, we've used variable names to store a single value. However, we sometimes have a _collection_ of related values that we want to store together. Python has a number of built-in collection types, including lists. Lists are _sequences_ of values, possibly of different types, that are stored in order. Python lists are also _mutable_ and _dynamic_, and allow us to access their elements using indices.\n",
    "\n",
    "### Instantiating a list\n",
    "\n",
    "Square brackets (`[` `]`) are used to instantiate lists:"
   ]
  },
  {
   "cell_type": "code",
   "execution_count": 63,
   "id": "convertible-vegetarian",
   "metadata": {
    "slideshow": {
     "slide_type": "slide"
    }
   },
   "outputs": [
    {
     "name": "stdout",
     "output_type": "stream",
     "text": [
      "[]\n",
      "[1]\n",
      "[1, 2, 3]\n",
      "[1, 'two', 3.0]\n",
      "[1, 2, [1, 'two', 3.0]]\n"
     ]
    }
   ],
   "source": [
    "no_elements = []\n",
    "one_element = [1]\n",
    "lots_of_elements = [1, 2, 3]\n",
    "lots_of_elements_with_different_types = [1, \"two\", 3.0]\n",
    "nested_lists = [1, 2, lots_of_elements_with_different_types]\n",
    "\n",
    "print(no_elements)\n",
    "print(one_element)\n",
    "print(lots_of_elements)\n",
    "print(lots_of_elements_with_different_types)\n",
    "print(nested_lists)"
   ]
  },
  {
   "cell_type": "code",
   "execution_count": null,
   "id": "b1dd39da",
   "metadata": {},
   "outputs": [],
   "source": []
  },
  {
   "cell_type": "markdown",
   "id": "expected-massachusetts",
   "metadata": {
    "slideshow": {
     "slide_type": "notes"
    }
   },
   "source": [
    "As shown, we can create an empty list with square brackets that don't have anything between them. Sometimes this is useful for creating a list that we'll add values to later on.\n",
    "\n",
    "In addition, we can instantiate a list with values. The initial values of the list go inside the square brackets, and are separated by commas. For example, `lots_of_elements` has three elements, or values: `1`, `2`, and `3`. We can also store values of different types in a single list. `lots_of_elements_with_different_types` contains an integer, a string, and a float. Finally, as shown by `nested_lists`, list elements can be lists themselves, creating a _nested_ list."
   ]
  },
  {
   "cell_type": "markdown",
   "id": "least-beads",
   "metadata": {
    "slideshow": {
     "slide_type": "slide"
    }
   },
   "source": [
    "### Getting the length of a list\n",
    "\n",
    "We can get the length of a list using the `len` function:"
   ]
  },
  {
   "cell_type": "code",
   "execution_count": null,
   "id": "handy-whole",
   "metadata": {
    "slideshow": {
     "slide_type": "fragment"
    }
   },
   "outputs": [],
   "source": [
    "print(len(no_elements))\n",
    "print(len(one_element))\n",
    "print(len(lots_of_elements))\n",
    "print(len(lots_of_elements_with_different_types))\n",
    "print(len(nested_lists))"
   ]
  },
  {
   "cell_type": "markdown",
   "id": "advance-gates",
   "metadata": {
    "slideshow": {
     "slide_type": "notes"
    }
   },
   "source": [
    "While most of these are self-explanatory, it is worth noting how `len` handles nested lists. `nested_lists` contains only three elements, and `len` returns `3`. The last element in `nested_lists` is itself a list: but it still counts as a single element."
   ]
  },
  {
   "cell_type": "markdown",
   "id": "concrete-disaster",
   "metadata": {
    "slideshow": {
     "slide_type": "slide"
    }
   },
   "source": [
    "### Indexing and slicing\n",
    "\n",
    "We can access a specific element of a list:"
   ]
  },
  {
   "cell_type": "code",
   "execution_count": null,
   "id": "popular-snowboard",
   "metadata": {
    "slideshow": {
     "slide_type": "fragment"
    }
   },
   "outputs": [],
   "source": [
    "print(lots_of_elements[0])\n",
    "print(lots_of_elements[2])"
   ]
  },
  {
   "cell_type": "markdown",
   "id": "contained-paper",
   "metadata": {
    "slideshow": {
     "slide_type": "slide"
    }
   },
   "source": [
    "The number inside the square brackets is called the _index_. In Python, each element of the list is given an index, starting with `0` for the first element, and incrementing by one for each subsequent element in order.\n",
    "\n",
    "We can try to access an element that doesn't exist:"
   ]
  },
  {
   "cell_type": "code",
   "execution_count": 65,
   "id": "periodic-myanmar",
   "metadata": {
    "slideshow": {
     "slide_type": "fragment"
    }
   },
   "outputs": [
    {
     "name": "stdout",
     "output_type": "stream",
     "text": [
      "1\n"
     ]
    }
   ],
   "source": [
    "print(lots_of_elements[0])"
   ]
  },
  {
   "cell_type": "markdown",
   "id": "scenic-schedule",
   "metadata": {
    "slideshow": {
     "slide_type": "slide"
    }
   },
   "source": [
    "As shown, we'll get an error if we try to do that. We can, however, access elements using a negative index:"
   ]
  },
  {
   "cell_type": "code",
   "execution_count": null,
   "id": "pleasant-soviet",
   "metadata": {
    "slideshow": {
     "slide_type": "fragment"
    }
   },
   "outputs": [],
   "source": [
    "print(lots_of_elements[-3])"
   ]
  },
  {
   "cell_type": "markdown",
   "id": "bottom-render",
   "metadata": {
    "slideshow": {
     "slide_type": "notes"
    }
   },
   "source": [
    "A negative index tells the Python interpreter to count from the _last element_ of the list, where the last element can be thought of as having index `-1`, and the first element as having index `-len(list)`. As with positive indices, we can't access elements that don't exist, and need to stay within the range:"
   ]
  },
  {
   "cell_type": "code",
   "execution_count": null,
   "id": "laden-passion",
   "metadata": {
    "slideshow": {
     "slide_type": "fragment"
    }
   },
   "outputs": [],
   "source": [
    "print(lots_of_elements[-4])"
   ]
  },
  {
   "cell_type": "markdown",
   "id": "spanish-oxygen",
   "metadata": {
    "slideshow": {
     "slide_type": "slide"
    }
   },
   "source": [
    "While we can access individual elements of a list, it is sometimes useful to access multiple values at once. In Python, we can do this with _slicing_:"
   ]
  },
  {
   "cell_type": "code",
   "execution_count": null,
   "id": "monthly-metabolism",
   "metadata": {
    "slideshow": {
     "slide_type": "fragment"
    }
   },
   "outputs": [],
   "source": [
    "some_of_lots_of_elements = lots_of_elements[1:3]\n",
    "print(lots_of_elements)\n",
    "print(some_of_lots_of_elements)"
   ]
  },
  {
   "cell_type": "markdown",
   "id": "respective-boulder",
   "metadata": {
    "slideshow": {
     "slide_type": "slide"
    }
   },
   "source": [
    "In this example, we specify two indices, separated by a colon (`:`), in the square brackets on the first line, to take a _slice_ of the `lots_of_elements` list. The first number specifies the index of the first element that we want to extract, and the second number specifies where the slice stops: the slice will _not_ include this final element.\n",
    "\n",
    "We can think of the indices being to the left of each element:\n",
    "\n",
    "![List indices](images/list_indices.png \"List indices\")"
   ]
  },
  {
   "cell_type": "markdown",
   "id": "nearby-anchor",
   "metadata": {
    "slideshow": {
     "slide_type": "slide"
    }
   },
   "source": [
    "And so, when we take a slice (say `lots_of_elements[1:3]`), it can be illustrated as:\n",
    "\n",
    "![List indices (slice example)](images/have_a_slice.png \"List indices (slice example)\")\n",
    "\n",
    "As shown in the above example, slicing a list will create a new list. This is true even when the slice contains a single element:"
   ]
  },
  {
   "cell_type": "code",
   "execution_count": null,
   "id": "vital-boutique",
   "metadata": {
    "slideshow": {
     "slide_type": "slide"
    }
   },
   "outputs": [],
   "source": [
    "print(lots_of_elements[2:3])"
   ]
  },
  {
   "cell_type": "markdown",
   "id": "numeric-above",
   "metadata": {
    "slideshow": {
     "slide_type": "fragment"
    }
   },
   "source": [
    "When slicing, we can omit either or both of the start and end indices:"
   ]
  },
  {
   "cell_type": "code",
   "execution_count": null,
   "id": "wicked-article",
   "metadata": {
    "slideshow": {
     "slide_type": "fragment"
    }
   },
   "outputs": [],
   "source": [
    "print(lots_of_elements[:2])\n",
    "print(lots_of_elements[1:])\n",
    "print(lots_of_elements[:])"
   ]
  },
  {
   "cell_type": "markdown",
   "id": "actual-halloween",
   "metadata": {
    "slideshow": {
     "slide_type": "slide"
    }
   },
   "source": [
    "Omitting the start index means that the slice will start at the beginning of the list, while omitting the end index means that the slice will continue until the end of the list. It follows that omitting both values is the same as taking a slice of the whole list (i.e., `lots_of_elements[:] == lots_of_elements`).\n",
    "\n",
    "We can also specify a _step_:"
   ]
  },
  {
   "cell_type": "code",
   "execution_count": null,
   "id": "interesting-weather",
   "metadata": {
    "slideshow": {
     "slide_type": "fragment"
    }
   },
   "outputs": [],
   "source": [
    "many_numbers = [1, 2, 3, 4, 5, 6, 7, 8, 9, 10]\n",
    "print(many_numbers[1:8:2])"
   ]
  },
  {
   "cell_type": "markdown",
   "id": "pediatric-november",
   "metadata": {
    "slideshow": {
     "slide_type": "slide"
    }
   },
   "source": [
    "The slice still starts with the element indicated by the first index, and stops before the second index. The third number specifies the step.\n",
    "\n",
    "Both the start and end indices, and the step, can be negative:"
   ]
  },
  {
   "cell_type": "code",
   "execution_count": null,
   "id": "unlimited-amazon",
   "metadata": {
    "slideshow": {
     "slide_type": "fragment"
    }
   },
   "outputs": [],
   "source": [
    "print(many_numbers[-5:])\n",
    "print(many_numbers[-5:-1])\n",
    "print(many_numbers[-5:1:-1])\n",
    "print(many_numbers[::-1])"
   ]
  },
  {
   "cell_type": "markdown",
   "id": "burning-granny",
   "metadata": {
    "slideshow": {
     "slide_type": "slide"
    }
   },
   "source": [
    "Negative start and end indices behave as described for accessing individual elements, where counting begins at the end of the list. A negative step means that the slice will step through the list _in reverse_. As shown, the slice `[::-1]` is shorthand for reversing the whole list.\n",
    "\n",
    "Finally, when accessing a nested list, we chain together the notation:"
   ]
  },
  {
   "cell_type": "code",
   "execution_count": null,
   "id": "optimum-exercise",
   "metadata": {
    "scrolled": true,
    "slideshow": {
     "slide_type": "fragment"
    }
   },
   "outputs": [],
   "source": [
    "print(nested_lists[2][1])"
   ]
  },
  {
   "cell_type": "markdown",
   "id": "secret-oracle",
   "metadata": {
    "slideshow": {
     "slide_type": "fragment"
    }
   },
   "source": [
    "In the example above, we first access the 3rd element of the `nested_lists` list, which is itself a list. We then access the 2nd element of that list."
   ]
  },
  {
   "cell_type": "markdown",
   "id": "stone-density",
   "metadata": {
    "slideshow": {
     "slide_type": "slide"
    }
   },
   "source": [
    "### Mutating lists\n",
    "\n",
    "Lists are _mutable_: that is, we can change the values that are stored in the list:"
   ]
  },
  {
   "cell_type": "code",
   "execution_count": null,
   "id": "requested-figure",
   "metadata": {
    "slideshow": {
     "slide_type": "fragment"
    }
   },
   "outputs": [],
   "source": [
    "a_few_numbers = [1, 2, 3, 4, 5]\n",
    "print(a_few_numbers)\n",
    "a_few_numbers[3] = 12\n",
    "print(a_few_numbers)"
   ]
  },
  {
   "cell_type": "markdown",
   "id": "extreme-application",
   "metadata": {
    "slideshow": {
     "slide_type": "slide"
    }
   },
   "source": [
    "We can also change multiple values at once, using the slice notation described in the last section:"
   ]
  },
  {
   "cell_type": "code",
   "execution_count": null,
   "id": "consistent-lecture",
   "metadata": {
    "slideshow": {
     "slide_type": "fragment"
    }
   },
   "outputs": [],
   "source": [
    "a_few_numbers[2:4] = [30, 31]\n",
    "print(a_few_numbers)"
   ]
  },
  {
   "cell_type": "markdown",
   "id": "monthly-supervision",
   "metadata": {
    "slideshow": {
     "slide_type": "slide"
    }
   },
   "source": [
    "All of the notation from the previous section can be used here. It is important to note that the length of the slice on the left hand side (i.e., the list we're mutating) _must_ be the same as the length of the list of the right hand side (i.e., the new values).\n",
    "\n",
    "Lists in Python are also _dynamic_: we can add and remove values, changing the size of the list:"
   ]
  },
  {
   "cell_type": "code",
   "execution_count": null,
   "id": "departmental-chess",
   "metadata": {
    "slideshow": {
     "slide_type": "fragment"
    }
   },
   "outputs": [],
   "source": [
    "a_few_more_numbers = [7, 8, 9]\n",
    "print(a_few_more_numbers)\n",
    "a_few_more_numbers.append(10)\n",
    "print(a_few_more_numbers)"
   ]
  },
  {
   "cell_type": "markdown",
   "id": "specified-concert",
   "metadata": {
    "slideshow": {
     "slide_type": "slide"
    }
   },
   "source": [
    "Here, we use the `append` function of lists to add an individual element. We can also use `extend` to add a list of elements to another:"
   ]
  },
  {
   "cell_type": "code",
   "execution_count": null,
   "id": "proof-mortality",
   "metadata": {
    "slideshow": {
     "slide_type": "fragment"
    }
   },
   "outputs": [],
   "source": [
    "a_few_more_numbers.extend([10, 11, 12, 13])\n",
    "print(a_few_more_numbers)"
   ]
  },
  {
   "cell_type": "markdown",
   "id": "fallen-manitoba",
   "metadata": {
    "slideshow": {
     "slide_type": "slide"
    }
   },
   "source": [
    "We can also remove elements from a list:"
   ]
  },
  {
   "cell_type": "code",
   "execution_count": null,
   "id": "grand-provider",
   "metadata": {
    "scrolled": true,
    "slideshow": {
     "slide_type": "fragment"
    }
   },
   "outputs": [],
   "source": [
    "a_few_more_numbers.remove(10)\n",
    "print(a_few_more_numbers)\n",
    "del a_few_more_numbers[3:5]\n",
    "print(a_few_more_numbers)"
   ]
  },
  {
   "cell_type": "markdown",
   "id": "plastic-numbers",
   "metadata": {
    "slideshow": {
     "slide_type": "fragment"
    }
   },
   "source": [
    "`remove` will delete the first occurence of the specified value, while `del` will remove the specified element or slice. It is important to remember that deleting elements from a list will shift the indices of all the elements that come after the deleted elements."
   ]
  },
  {
   "cell_type": "markdown",
   "id": "qualified-program",
   "metadata": {
    "slideshow": {
     "slide_type": "slide"
    }
   },
   "source": [
    "### List operators and operations\n",
    "\n",
    "There are a couple of useful operators for lists:"
   ]
  },
  {
   "cell_type": "code",
   "execution_count": null,
   "id": "corresponding-mixture",
   "metadata": {
    "slideshow": {
     "slide_type": "fragment"
    }
   },
   "outputs": [],
   "source": [
    "two_lists = [1, 2, 3] + [4, 5, 6]\n",
    "multiply_lists = [1, 2, 3] * 10\n",
    "\n",
    "print(two_lists)\n",
    "print(multiply_lists)"
   ]
  },
  {
   "cell_type": "markdown",
   "id": "enormous-modification",
   "metadata": {
    "slideshow": {
     "slide_type": "slide"
    }
   },
   "source": [
    "`+` is used to concatenate, or join, two lists together. It follows that `*` will join together a list with copies of itself, for the specified number of times. These operators are useful for adding elements to a list, or for instantiating a list with a known number of elements.\n",
    "\n",
    "We could use `+` to add elements to a list like this:"
   ]
  },
  {
   "cell_type": "code",
   "execution_count": null,
   "id": "dirty-arthur",
   "metadata": {
    "slideshow": {
     "slide_type": "fragment"
    }
   },
   "outputs": [],
   "source": [
    "a_few_more_numbers = a_few_more_numbers + [14, 15, 16]\n",
    "print(a_few_more_numbers)"
   ]
  },
  {
   "cell_type": "markdown",
   "id": "foster-rescue",
   "metadata": {
    "slideshow": {
     "slide_type": "notes"
    }
   },
   "source": [
    "While this appears to be the same as using `extend`, there is a subtle difference that is sometimes important. In this example, using `+`, we're _creating a new list_, and assigning the new list to the `a_few_more_numbers` variable. When we used `extend`, we changed the existing list. We'll explore the impact of this with exercises later on.\n",
    "\n",
    "While there are many library functions that work on lists, we'll introduce another two here. The first sorts the list:"
   ]
  },
  {
   "cell_type": "code",
   "execution_count": null,
   "id": "worst-exploration",
   "metadata": {
    "scrolled": true,
    "slideshow": {
     "slide_type": "slide"
    }
   },
   "outputs": [],
   "source": [
    "some_words = [\"the\", \"quick\", \"brown\", \"fox\", \"jumped\", \"over\", \"the\", \"lazy\", \"dog\"]\n",
    "print(some_words)\n",
    "some_words.sort()\n",
    "print(some_words)"
   ]
  },
  {
   "cell_type": "markdown",
   "id": "funny-recording",
   "metadata": {
    "slideshow": {
     "slide_type": "slide"
    }
   },
   "source": [
    "The `sort` function will sort the specified list in place. By default, the list will be sorted in ascending lexicographical order (i.e., dictionary order). You can also sort the list in reverse order:"
   ]
  },
  {
   "cell_type": "code",
   "execution_count": null,
   "id": "guided-village",
   "metadata": {
    "slideshow": {
     "slide_type": "fragment"
    }
   },
   "outputs": [],
   "source": [
    "some_words.sort(reverse=True)\n",
    "print(some_words)"
   ]
  },
  {
   "cell_type": "markdown",
   "id": "complicated-creek",
   "metadata": {
    "slideshow": {
     "slide_type": "slide"
    }
   },
   "source": [
    "Finally, we can find the indice of the first occurence of a given value in a list:"
   ]
  },
  {
   "cell_type": "code",
   "execution_count": null,
   "id": "present-edwards",
   "metadata": {
    "slideshow": {
     "slide_type": "fragment"
    }
   },
   "outputs": [],
   "source": [
    "print(some_words.index(\"fox\"))"
   ]
  },
  {
   "cell_type": "markdown",
   "id": "recent-hungarian",
   "metadata": {
    "slideshow": {
     "slide_type": "slide"
    }
   },
   "source": [
    "An error will occur if the list doesn't contain the specified value. To check if a given value occurs in the list, we can check using the boolean `in` operator:"
   ]
  },
  {
   "cell_type": "code",
   "execution_count": null,
   "id": "killing-battlefield",
   "metadata": {
    "slideshow": {
     "slide_type": "fragment"
    }
   },
   "outputs": [],
   "source": [
    "print(\"cat\" in some_words)"
   ]
  },
  {
   "cell_type": "markdown",
   "id": "growing-watts",
   "metadata": {
    "slideshow": {
     "slide_type": "slide"
    }
   },
   "source": [
    "### Strings as lists\n",
    "\n",
    "In Python, there is some overlap between lists and strings. You can think of strings as being lists of individual characters. All of the methods for accessing individual elements -- or characters, in the case of strings -- and slices will work with strings as they do for lists.\n",
    "\n",
    "However, it is important to note that, in contrast to lists, strings are _immutable_: they cannot be changed. That means that none of the functions described in the `Mutating lists` section above apply to strings."
   ]
  },
  {
   "cell_type": "markdown",
   "id": "universal-wagon",
   "metadata": {
    "slideshow": {
     "slide_type": "slide"
    }
   },
   "source": [
    "### Iterating over lists"
   ]
  },
  {
   "cell_type": "markdown",
   "id": "greek-young",
   "metadata": {},
   "source": [
    "It is quite common to want to loop over a list, and perform some computation with each element in turn. Python's for loop makes this straightforward:"
   ]
  },
  {
   "cell_type": "code",
   "execution_count": null,
   "id": "fantastic-remainder",
   "metadata": {
    "slideshow": {
     "slide_type": "fragment"
    }
   },
   "outputs": [],
   "source": [
    "for word in some_words:\n",
    "    print(f\"The word is: {word}\")"
   ]
  },
  {
   "cell_type": "markdown",
   "id": "indian-google",
   "metadata": {
    "slideshow": {
     "slide_type": "slide"
    }
   },
   "source": [
    "We can do this for lists containing any type, including numbers:"
   ]
  },
  {
   "cell_type": "code",
   "execution_count": null,
   "id": "electronic-caution",
   "metadata": {
    "slideshow": {
     "slide_type": "fragment"
    }
   },
   "outputs": [],
   "source": [
    "for i in many_numbers:\n",
    "    print(i)"
   ]
  },
  {
   "cell_type": "markdown",
   "id": "filled-background",
   "metadata": {
    "slideshow": {
     "slide_type": "notes"
    }
   },
   "source": [
    "We can see some similarities with this approach - of looping over a list of numbers - with the `range` function introduced earlier in the week. While there is some difference, we can think of `range` as being a function that produces a list with the specified values and length. "
   ]
  },
  {
   "cell_type": "markdown",
   "id": "regulated-lindsay",
   "metadata": {
    "slideshow": {
     "slide_type": "slide"
    }
   },
   "source": [
    "## Tuples\n",
    "\n",
    "While we've seen that lists are _mutable_ -- that is, they can be changed after they've been created -- Python provides a similar type that is _immutable_, and so cannot be changed once it has been instantiated. These are called _tuples_ and are instantiated and accessed using syntax that is similar to that for lists:"
   ]
  },
  {
   "cell_type": "code",
   "execution_count": null,
   "id": "excited-customs",
   "metadata": {
    "slideshow": {
     "slide_type": "fragment"
    }
   },
   "outputs": [],
   "source": [
    "some_things = ('a', 12, \"hello\")\n",
    "print(some_things)\n",
    "print(len(some_things))\n",
    "print(some_things[2])"
   ]
  },
  {
   "cell_type": "markdown",
   "id": "finite-absolute",
   "metadata": {
    "slideshow": {
     "slide_type": "notes"
    }
   },
   "source": [
    "The difference here is that tuples are instantiated using using round brackets (`(` and `)`), as opposed to the square brackets used for lists.\n",
    "\n",
    "Tuples can be accessed using the same syntax and operations described for lists, including using slices, iteration, getting the length of a tuple, and testing if some value is in a tuple. However, since tuples are immutable, none of the operations and methods for adding or removing elements (described in the \"Mutating lists\" section) do _not_ apply to tuples."
   ]
  },
  {
   "cell_type": "markdown",
   "id": "nonprofit-setup",
   "metadata": {
    "slideshow": {
     "slide_type": "slide"
    }
   },
   "source": [
    "## Dictionaries"
   ]
  },
  {
   "cell_type": "markdown",
   "id": "junior-mercy",
   "metadata": {},
   "source": [
    "Lists and tuples are ideal for storing data that is both sequential - that is, needs to be stored in some order - and related. This is because we can uses numerical indices and slices to access the data.\n",
    "\n",
    "However, sometimes we want to store data that does not have a sequential structure. For example, we might have a phonebook, where each a person's name is associated with a telephone number. Lists wouldn't be suited to storing this data: we'd have to access each telephone number in order, rather than being able to look-up the number of a particular name.\n",
    "\n",
    "To allow us to store this kind of data, Python has _dictionaries_. In essence, dictionaries store a mapping between a _key_ (something unique that we want to associate with a value - in our example above, this would be the person's name) and a _value_ (anything that we want to associate with the key - again, in our example, this is the person's telephone number). \n",
    "\n",
    "We can create a dictionary using this syntax:"
   ]
  },
  {
   "cell_type": "code",
   "execution_count": 1,
   "id": "vanilla-indication",
   "metadata": {
    "slideshow": {
     "slide_type": "slide"
    }
   },
   "outputs": [
    {
     "name": "stdout",
     "output_type": "stream",
     "text": [
      "{'Bob': '0123456789', 'Alice': '98765434210'}\n"
     ]
    }
   ],
   "source": [
    "some_telephone_numbers = {\"Bob\": \"0123456789\", \"Alice\": \"98765434210\"}\n",
    "print(some_telephone_numbers)"
   ]
  },
  {
   "cell_type": "markdown",
   "id": "varied-corner",
   "metadata": {
    "slideshow": {
     "slide_type": "notes"
    }
   },
   "source": [
    "Here, we've created a dictionary with two keys - \"Bob\" and \"Alice\" - with associated telephone numbers.\n",
    "\n",
    "While we can use anything as a value, there are a few rules that restrict the types that we can use as keys. Importantly, keys need to be unique. For example, we couldn't have two keys called \"Alice\" in our phonebook. It follows, then, that we must be able to check if something is unique. Python does this using a process called _hashing_. We won't explore this further in this tutorial, but it is important to note that keys must be _hashable_. Finally, given that we want to enforce uniqueness, it is also the case that keys shouldn't be able to be changed: this would prevent us from checking that they are unique. As a result, keys must be _immutable_. That means that strings, integers, and tuples can be used as keys, but that lists and dictionaries (which as we'll see shortly are mutable) are not."
   ]
  },
  {
   "cell_type": "markdown",
   "id": "binary-navigator",
   "metadata": {
    "slideshow": {
     "slide_type": "slide"
    }
   },
   "source": [
    "### Indexing\n",
    "\n",
    "Just as with lists, we access a specific item in a dictionary by specifying the key in square brackets:"
   ]
  },
  {
   "cell_type": "code",
   "execution_count": 2,
   "id": "legitimate-huntington",
   "metadata": {
    "scrolled": true,
    "slideshow": {
     "slide_type": "fragment"
    }
   },
   "outputs": [
    {
     "name": "stdout",
     "output_type": "stream",
     "text": [
      "98765434210\n"
     ]
    }
   ],
   "source": [
    "print(some_telephone_numbers[\"Alice\"])"
   ]
  },
  {
   "cell_type": "markdown",
   "id": "studied-needle",
   "metadata": {
    "slideshow": {
     "slide_type": "slide"
    }
   },
   "source": [
    "If we try to index using a key that isn't in the dictionary, we'll get an error:"
   ]
  },
  {
   "cell_type": "code",
   "execution_count": 3,
   "id": "excess-negotiation",
   "metadata": {
    "slideshow": {
     "slide_type": "fragment"
    }
   },
   "outputs": [
    {
     "ename": "KeyError",
     "evalue": "'Maude'",
     "output_type": "error",
     "traceback": [
      "\u001b[1;31m---------------------------------------------------------------------------\u001b[0m",
      "\u001b[1;31mKeyError\u001b[0m                                  Traceback (most recent call last)",
      "Input \u001b[1;32mIn [3]\u001b[0m, in \u001b[0;36m<cell line: 1>\u001b[1;34m()\u001b[0m\n\u001b[1;32m----> 1\u001b[0m \u001b[38;5;28mprint\u001b[39m(\u001b[43msome_telephone_numbers\u001b[49m\u001b[43m[\u001b[49m\u001b[38;5;124;43m\"\u001b[39;49m\u001b[38;5;124;43mMaude\u001b[39;49m\u001b[38;5;124;43m\"\u001b[39;49m\u001b[43m]\u001b[49m)\n",
      "\u001b[1;31mKeyError\u001b[0m: 'Maude'"
     ]
    }
   ],
   "source": [
    "print(some_telephone_numbers[\"Maude\"])"
   ]
  },
  {
   "cell_type": "markdown",
   "id": "supposed-finder",
   "metadata": {
    "slideshow": {
     "slide_type": "slide"
    }
   },
   "source": [
    "We can avoid this in two ways. First, we can check if a key is in a dictionary using the boolean `in` operator:"
   ]
  },
  {
   "cell_type": "code",
   "execution_count": 4,
   "id": "figured-student",
   "metadata": {
    "slideshow": {
     "slide_type": "fragment"
    }
   },
   "outputs": [
    {
     "name": "stdout",
     "output_type": "stream",
     "text": [
      "False\n"
     ]
    }
   ],
   "source": [
    "print(\"Maude\" in some_telephone_numbers)"
   ]
  },
  {
   "cell_type": "markdown",
   "id": "comprehensive-database",
   "metadata": {
    "slideshow": {
     "slide_type": "slide"
    }
   },
   "source": [
    "Or, we can use `get`, and specify a default value:"
   ]
  },
  {
   "cell_type": "code",
   "execution_count": 7,
   "id": "alive-immunology",
   "metadata": {
    "scrolled": true,
    "slideshow": {
     "slide_type": "fragment"
    }
   },
   "outputs": [
    {
     "name": "stdout",
     "output_type": "stream",
     "text": [
      "Call the switchboard\n"
     ]
    }
   ],
   "source": [
    "print(some_telephone_numbers.get(\"Maude\", \"Call the switchboard\"))"
   ]
  },
  {
   "cell_type": "markdown",
   "id": "upset-qatar",
   "metadata": {
    "slideshow": {
     "slide_type": "fragment"
    }
   },
   "source": [
    "While this syntax is similar to that for lists, we can't use slicing. This is because dictionaries are used to represent data that isn't sequential: slices wouldn't make sense."
   ]
  },
  {
   "cell_type": "markdown",
   "id": "dominican-brother",
   "metadata": {
    "slideshow": {
     "slide_type": "slide"
    }
   },
   "source": [
    "### Mutating dictionaries\n",
    "\n",
    "Since dictionaries are mutable, we can change the values that are associated with keys, delete a key (and its value) altogether, and add new keys:"
   ]
  },
  {
   "cell_type": "code",
   "execution_count": null,
   "id": "patient-doctor",
   "metadata": {
    "slideshow": {
     "slide_type": "fragment"
    }
   },
   "outputs": [],
   "source": [
    "some_telephone_numbers[\"Alice\"] = \"0123456789\"\n",
    "del some_telephone_numbers[\"Bob\"]\n",
    "some_telephone_numbers[\"Maude\"] = \"9876556789\"\n",
    "print(some_telephone_numbers)"
   ]
  },
  {
   "cell_type": "code",
   "execution_count": 10,
   "id": "9af7389b",
   "metadata": {},
   "outputs": [],
   "source": [
    "a_tuple = ('a', 'b','c')"
   ]
  },
  {
   "cell_type": "code",
   "execution_count": 15,
   "id": "e74b5ab5",
   "metadata": {},
   "outputs": [
    {
     "name": "stdout",
     "output_type": "stream",
     "text": [
      "c\n"
     ]
    }
   ],
   "source": [
    "print(a_tuple[2])"
   ]
  },
  {
   "cell_type": "markdown",
   "id": "operating-surfing",
   "metadata": {
    "slideshow": {
     "slide_type": "fragment"
    }
   },
   "source": [
    "We use the assignment syntax (`=`) to add and modify values, and the `del` operation to remove a key."
   ]
  },
  {
   "cell_type": "markdown",
   "id": "sacred-insert",
   "metadata": {
    "slideshow": {
     "slide_type": "slide"
    }
   },
   "source": [
    "### Iterating over dictionaries\n",
    "\n",
    "There are three functions that are useful for iterating through a dictionary:"
   ]
  },
  {
   "cell_type": "code",
   "execution_count": 16,
   "id": "apart-latino",
   "metadata": {
    "slideshow": {
     "slide_type": "fragment"
    }
   },
   "outputs": [
    {
     "name": "stdout",
     "output_type": "stream",
     "text": [
      "dict_keys(['Bob', 'Alice'])\n",
      "dict_values(['0123456789', '98765434210'])\n",
      "dict_items([('Bob', '0123456789'), ('Alice', '98765434210')])\n"
     ]
    }
   ],
   "source": [
    "print(some_telephone_numbers.keys())\n",
    "print(some_telephone_numbers.values())\n",
    "print(some_telephone_numbers.items())"
   ]
  },
  {
   "cell_type": "markdown",
   "id": "normal-humor",
   "metadata": {
    "slideshow": {
     "slide_type": "slide"
    }
   },
   "source": [
    "`keys` provides a list of the keys that are present in the dictionary; `values` gives a list of the values; and `items` gives a list of tuples, where the first element is the key, and the second is the associated value. These lists are all ordered by the insertion order of the keys: so, in this example, \"Alice\" was in the phonebook before \"Maude\", and so the dictionary, and the lists, are in that order.\n",
    "\n",
    "When we want to iterate over a list, we can use the for loop:"
   ]
  },
  {
   "cell_type": "code",
   "execution_count": 17,
   "id": "correct-generator",
   "metadata": {
    "slideshow": {
     "slide_type": "slide"
    }
   },
   "outputs": [
    {
     "name": "stdout",
     "output_type": "stream",
     "text": [
      "You can phone Bob on 0123456789.\n",
      "You can phone Alice on 98765434210.\n"
     ]
    }
   ],
   "source": [
    "for name in some_telephone_numbers:\n",
    "    print(f\"You can phone {name} on {some_telephone_numbers[name]}.\")"
   ]
  },
  {
   "cell_type": "markdown",
   "id": "otherwise-information",
   "metadata": {
    "slideshow": {
     "slide_type": "slide"
    }
   },
   "source": [
    "As you can see, by default, the for loop operates over the list of keys. We can then use each key to access the related value in turn.\n",
    "\n",
    "We could also iterate over the other generated lists, including `items`:"
   ]
  },
  {
   "cell_type": "code",
   "execution_count": null,
   "id": "affected-candle",
   "metadata": {
    "slideshow": {
     "slide_type": "fragment"
    }
   },
   "outputs": [],
   "source": [
    "for name, phone_number in some_telephone_numbers.items():\n",
    "    print(f\"You can phone {name} on {phone_number}.\")"
   ]
  },
  {
   "cell_type": "code",
   "execution_count": 18,
   "id": "2a2ea527",
   "metadata": {},
   "outputs": [],
   "source": [
    "csc_dict = {\"CSC104\":\"Intro. to Number Theory\", \"CSC103\":\"Programming Concept I\", \"CSC105\": \"Logic Gates\"}\n"
   ]
  },
  {
   "cell_type": "code",
   "execution_count": 20,
   "id": "c2989516",
   "metadata": {},
   "outputs": [
    {
     "name": "stdout",
     "output_type": "stream",
     "text": [
      "Intro. to Number Theory\n",
      "Programming Concept I\n",
      "Logic Gates\n"
     ]
    }
   ],
   "source": [
    "for t in csc_dict:\n",
    "    print(csc_dict[t])"
   ]
  },
  {
   "cell_type": "markdown",
   "id": "freelance-horizontal",
   "metadata": {
    "slideshow": {
     "slide_type": "fragment"
    }
   },
   "source": [
    "This example also shows us Python's special syntax for iterating over lists of tuples. We can split the tuple automatically: here, the first element of the tuple is assigned to the first variable in the loop (`name`), and the second element is assigned to the second name (`phone_number`)."
   ]
  },
  {
   "cell_type": "markdown",
   "id": "diverse-princess",
   "metadata": {
    "slideshow": {
     "slide_type": "slide"
    }
   },
   "source": [
    "## Functions\n",
    "\n",
    "In Python, a function is a named block of code that can be _called_ anywhere in your program. When a function is _called_, the named block of statements is executed sequentially. That means that the flow of execution of the program is passed to the function when it is called, and then returned to the place the function was called once the function is finished. We can define, and call, a function like this:"
   ]
  },
  {
   "cell_type": "code",
   "execution_count": 22,
   "id": "eee8dccd",
   "metadata": {},
   "outputs": [],
   "source": [
    "def say_int()"
   ]
  },
  {
   "cell_type": "code",
   "execution_count": 23,
   "id": "79f97dee",
   "metadata": {},
   "outputs": [
    {
     "name": "stdout",
     "output_type": "stream",
     "text": [
      "Hi Safiyyah\n"
     ]
    }
   ],
   "source": [
    "say_hi(\"Safiyyah\")"
   ]
  },
  {
   "cell_type": "code",
   "execution_count": null,
   "id": "elegant-agreement",
   "metadata": {
    "slideshow": {
     "slide_type": "slide"
    }
   },
   "outputs": [],
   "source": [
    "def say_hello():\n",
    "    print(\"Hello!\")\n",
    "    \n",
    "say_hello()"
   ]
  },
  {
   "cell_type": "markdown",
   "id": "neither-vegetarian",
   "metadata": {
    "slideshow": {
     "slide_type": "notes"
    }
   },
   "source": [
    "In this example, we define a function called `say_hello` that contains a block of statements (there is only one statement in the block, `print(\"Hello!\")`), and we then call the `say_hello` function.\n",
    "\n",
    "There are a number of important points to note. First, the definition of the function does not alter the flow of the program. The Python interpreter still interprets the code line-by-line, in order. When it sees the function definition (beginning `def ..`), it does not evaluate the lines contained in the definition, but rather saves them, labelled with the name that we've given the function.\n",
    "\n",
    "Second, we can see that the function is given a name. The naming rules for functions are the same as for variable names: they can contain letters, numbers, and underscores (`_`), but must begin with a letter or underscore.\n",
    "\n",
    "Finally, we can see that the function is called by giving the function's name (`say_hello`), followed by a set of brackets (`()`). These brackets indicate that the name is a function, rather than a variable or other keyword. In addition, we'll see that we can _parameterise_ functions later on, and we'll pass arguments to the function by putting them in these brackets.\n",
    "\n"
   ]
  },
  {
   "cell_type": "markdown",
   "id": "infinite-istanbul",
   "metadata": {
    "slideshow": {
     "slide_type": "slide"
    }
   },
   "source": [
    "### Parameterising functions\n",
    "\n",
    "Just as `if` statements allowed our code to branch and vary depending on the value of data in our program, functions can also be made more useful by being expressed in terms of a set of _parameters_. This means that we can define our function in terms of a set of variable names that are given values when the function is called. For example:"
   ]
  },
  {
   "cell_type": "code",
   "execution_count": null,
   "id": "successful-migration",
   "metadata": {
    "slideshow": {
     "slide_type": "slide"
    }
   },
   "outputs": [],
   "source": [
    "def say_hello(name):\n",
    "    print(f\"Hello, {name}!\")\n",
    "    \n",
    "say_hello(\"Bob\")\n",
    "say_hello(\"Alice\")"
   ]
  },
  {
   "cell_type": "markdown",
   "id": "prescribed-samba",
   "metadata": {
    "slideshow": {
     "slide_type": "notes"
    }
   },
   "source": [
    "In this example, we've defined the `say_hello` function in terms of the `name` parameter. We use the variable name `name` in the definition of `say_hello`, but the value of this variable isn't known until the function is called. We can see the function being called twice with different names, and the appropriate message being printed given the argument that is passed to the function. It is important to note the different terms used here: a _parameter_ is the variable name we use when we define the function, while an _argument_ is the value we set those parameters to when we call the function.\n",
    "\n",
    "A function can have multiple parameters:"
   ]
  },
  {
   "cell_type": "code",
   "execution_count": null,
   "id": "developing-fountain",
   "metadata": {
    "slideshow": {
     "slide_type": "slide"
    }
   },
   "outputs": [],
   "source": [
    "def divide(x, y):\n",
    "    return x / y\n",
    "\n",
    "print(divide(4, 2))"
   ]
  },
  {
   "cell_type": "markdown",
   "id": "structured-shadow",
   "metadata": {
    "slideshow": {
     "slide_type": "notes"
    }
   },
   "source": [
    "In this example, there are two parameters, `x` and `y`, that are set to `4` and `2` respectively, when the function is called. Each parameter is set to the value given in the function call in the order that is given in the function definition. These are called _positional arguments_, given that they are assigned their value based on their position in the definition. That means that the order in which we provide the arguments matters:"
   ]
  },
  {
   "cell_type": "code",
   "execution_count": null,
   "id": "junior-census",
   "metadata": {
    "slideshow": {
     "slide_type": "slide"
    }
   },
   "outputs": [],
   "source": [
    "print(divide(2, 4))"
   ]
  },
  {
   "cell_type": "markdown",
   "id": "compliant-skiing",
   "metadata": {
    "slideshow": {
     "slide_type": "fragment"
    }
   },
   "source": [
    "Sometimes, trying to remember the order in which arguments need to be provided can be confusing. If we get the order wrong, as in the above example, we can end up with unexpected results. To overcome this, we can use _named arguments_:"
   ]
  },
  {
   "cell_type": "code",
   "execution_count": null,
   "id": "nuclear-tenant",
   "metadata": {
    "slideshow": {
     "slide_type": "fragment"
    }
   },
   "outputs": [],
   "source": [
    "def divide(dividend=1, divisor=1):\n",
    "    return dividend / divisor\n",
    "\n",
    "print(divide(4, 2))\n",
    "print(divide(dividend=4, divisor=2))\n",
    "print(divide(divisor=2, dividend=4))\n",
    "print(divide())"
   ]
  },
  {
   "cell_type": "markdown",
   "id": "prospective-destruction",
   "metadata": {
    "slideshow": {
     "slide_type": "notes"
    }
   },
   "source": [
    "Here, we redefine our `divide` function. This time, we've given the parameters names: the first is called `dividend`, while the second is called `divisor`. As shown, we name the parameters using the assignment syntax. This also specifies a default value: if we don't set the parameter, then the default value is used. As the example shows, we can call the function in the same way as we did before, in which case the arguments are set in the order they are given. However, we can also see that, using the argument names, we can switch the order and get the results that we expect. Finally, we see what happens when we use the default values.\n",
    "\n",
    "Named arguments are useful where parameters are optional and can sensibly have default values. When defining a function with named arguments, these need to come last in the list of parameters, after any positional arguments."
   ]
  },
  {
   "cell_type": "markdown",
   "id": "vulnerable-league",
   "metadata": {
    "slideshow": {
     "slide_type": "slide"
    }
   },
   "source": [
    "### `return`\n",
    "\n",
    "In our example functions so far, our functions have \"done something\" (i.e., printed a message). However, function calls in Python are also expressions, so they evaluate to a value:"
   ]
  },
  {
   "cell_type": "code",
   "execution_count": null,
   "id": "accepting-anderson",
   "metadata": {
    "slideshow": {
     "slide_type": "fragment"
    }
   },
   "outputs": [],
   "source": [
    "print(say_hello(\"Bob\"))"
   ]
  },
  {
   "cell_type": "markdown",
   "id": "egyptian-jamaica",
   "metadata": {
    "slideshow": {
     "slide_type": "notes"
    }
   },
   "source": [
    "When we execute this example, we'll see two lines: the first is the message printed by the `say_hello` function, while the next line will read `None`. That is because we're printing out the value that function evaluates to. We can `return` a value in our function, and that is the value that our function will evaluate to. However, by default, functions return `None` if no other value is given. For example, instead of printing the message, our function might return it:"
   ]
  },
  {
   "cell_type": "code",
   "execution_count": null,
   "id": "literary-binary",
   "metadata": {
    "slideshow": {
     "slide_type": "slide"
    }
   },
   "outputs": [],
   "source": [
    "def say_hello(name):\n",
    "    return f\"Hello, {name}!\"\n",
    "\n",
    "say_hello_bob = say_hello(\"Bob\")\n",
    "say_hello_alice = say_hello(\"Alice\")\n",
    "\n",
    "print(say_hello_alice)"
   ]
  },
  {
   "cell_type": "markdown",
   "id": "removed-wrapping",
   "metadata": {
    "slideshow": {
     "slide_type": "notes"
    }
   },
   "source": [
    "In this example, we create two variables `say_hello_bob` and `say_hello_alice` that contain a string generated by the `say_hello` function. Rather than the function printing a message, they construct a string instead, and `return` the generated string. This means that `say_hello_bob` contains the string `Hello, Bob!`, and `say_hello_alice` contains the string `Hello, Alice!`. We can then go on to print these variables if we want, as we do with `say_hello_alice`.\n",
    "\n",
    "This can also be illustrated using functions that work with numbers:"
   ]
  },
  {
   "cell_type": "code",
   "execution_count": 2,
   "id": "entertaining-tongue",
   "metadata": {
    "slideshow": {
     "slide_type": "slide"
    }
   },
   "outputs": [
    {
     "name": "stdout",
     "output_type": "stream",
     "text": [
      "5\n"
     ]
    }
   ],
   "source": [
    "def plus_one(x):\n",
    "    return x + 1\n",
    "\n",
    "print(1 + plus_one(3))"
   ]
  },
  {
   "cell_type": "markdown",
   "id": "impaired-marshall",
   "metadata": {
    "slideshow": {
     "slide_type": "notes"
    }
   },
   "source": [
    "In this example, we define `plus_one`, that takes a number, `x`, and returns that number plus 1. We then print the expression `1 + plus_one(3)`, which contains a call to the `plus_one` function. `plus_one(3)` evaluates to `4`, and `1 + 4` evaluates to `5`, which is the value that is printed.\n",
    "\n",
    "Flow returns to the place where the function is called as when the `return` statement is executed, wherever it is placed in the function definition. For example:"
   ]
  },
  {
   "cell_type": "code",
   "execution_count": 3,
   "id": "comic-situation",
   "metadata": {
    "slideshow": {
     "slide_type": "slide"
    }
   },
   "outputs": [
    {
     "name": "stdout",
     "output_type": "stream",
     "text": [
      "hello\n"
     ]
    }
   ],
   "source": [
    "def return_in_the_middle():\n",
    "    print(\"hello\")\n",
    "    return\n",
    "    print(\"world\")\n",
    "    \n",
    "return_in_the_middle()"
   ]
  },
  {
   "cell_type": "markdown",
   "id": "transsexual-organ",
   "metadata": {
    "slideshow": {
     "slide_type": "notes"
    }
   },
   "source": [
    "In this example, when the `return_in_the_middle` function is called, `hello` is printed before the function returns. The second print statement (`print(\"world\")`) is never executed, because the `return` statement is before it."
   ]
  },
  {
   "cell_type": "markdown",
   "id": "blind-thread",
   "metadata": {
    "slideshow": {
     "slide_type": "slide"
    }
   },
   "source": [
    "## Scoping rules"
   ]
  },
  {
   "cell_type": "markdown",
   "id": "disabled-dancing",
   "metadata": {},
   "source": [
    "The _scope_ of a name (e.g., for a variable or a function) in our program is the area in the program where we can access that name. Once we define a name, it'll only be accessible within the scope in which it is defined. Scoping rules are needed so that we can reason about which name we're accessing and which names are accessible at a given time.\n",
    "\n",
    "Throughout this track, we'll use two scopes: the _global scope_, where names that are defined are available everywhere in the code, and _local scope_, where names that are defined are only available within that scope.\n",
    "\n",
    "Scoping rules can be difficult to understand, so we'll illustrate them with some examples. First, consider variables created inside a function definition:"
   ]
  },
  {
   "cell_type": "code",
   "execution_count": null,
   "id": "polished-shooting",
   "metadata": {
    "slideshow": {
     "slide_type": "slide"
    }
   },
   "outputs": [
    {
     "ename": "UnboundLocalError",
     "evalue": "cannot access local variable 'message' where it is not associated with a value",
     "output_type": "error",
     "traceback": [
      "\u001b[1;31m---------------------------------------------------------------------------\u001b[0m",
      "\u001b[1;31mUnboundLocalError\u001b[0m                         Traceback (most recent call last)",
      "Cell \u001b[1;32mIn[8], line 7\u001b[0m\n\u001b[0;32m      4\u001b[0m     message \u001b[38;5;241m=\u001b[39m \u001b[38;5;124mf\u001b[39m\u001b[38;5;124m\"\u001b[39m\u001b[38;5;124mHello, \u001b[39m\u001b[38;5;132;01m{\u001b[39;00mname\u001b[38;5;132;01m}\u001b[39;00m\u001b[38;5;124m!\u001b[39m\u001b[38;5;124m\"\u001b[39m\n\u001b[0;32m      5\u001b[0m     \u001b[38;5;28;01mreturn\u001b[39;00m message\n\u001b[1;32m----> 7\u001b[0m \u001b[38;5;28mprint\u001b[39m(\u001b[43msay_hello\u001b[49m\u001b[43m(\u001b[49m\u001b[38;5;124;43m\"\u001b[39;49m\u001b[38;5;124;43mBob\u001b[39;49m\u001b[38;5;124;43m\"\u001b[39;49m\u001b[43m)\u001b[49m)\n\u001b[0;32m      8\u001b[0m \u001b[38;5;28mprint\u001b[39m(message)\n",
      "Cell \u001b[1;32mIn[8], line 3\u001b[0m, in \u001b[0;36msay_hello\u001b[1;34m(name)\u001b[0m\n\u001b[0;32m      2\u001b[0m \u001b[38;5;28;01mdef\u001b[39;00m \u001b[38;5;21msay_hello\u001b[39m(name):\n\u001b[1;32m----> 3\u001b[0m     \u001b[38;5;28mprint\u001b[39m(\u001b[43mmessage\u001b[49m)\n\u001b[0;32m      4\u001b[0m     message \u001b[38;5;241m=\u001b[39m \u001b[38;5;124mf\u001b[39m\u001b[38;5;124m\"\u001b[39m\u001b[38;5;124mHello, \u001b[39m\u001b[38;5;132;01m{\u001b[39;00mname\u001b[38;5;132;01m}\u001b[39;00m\u001b[38;5;124m!\u001b[39m\u001b[38;5;124m\"\u001b[39m\n\u001b[0;32m      5\u001b[0m     \u001b[38;5;28;01mreturn\u001b[39;00m message\n",
      "\u001b[1;31mUnboundLocalError\u001b[0m: cannot access local variable 'message' where it is not associated with a value"
     ]
    }
   ],
   "source": [
    "message = \"Basic Python Concept.ipynb\"\n",
    "def say_hello(name):\n",
    "    message = f\"Hello, {name}!\"\n",
    "    return message\n",
    "\n",
    "print(say_hello(\"Bob\"))\n",
    "print(message)"
   ]
  },
  {
   "cell_type": "markdown",
   "id": "aggressive-mirror",
   "metadata": {
    "slideshow": {
     "slide_type": "fragment"
    }
   },
   "source": [
    "This will result in an error: `message` is defined inside the scope of the `say_hello` function, and is therefore not accessible outside it. This is useful if we want, for example, to use the same name in multiple scopes:"
   ]
  },
  {
   "cell_type": "code",
   "execution_count": 9,
   "id": "educated-offer",
   "metadata": {
    "slideshow": {
     "slide_type": "slide"
    }
   },
   "outputs": [
    {
     "name": "stdout",
     "output_type": "stream",
     "text": [
      "Hello, Alice!\n",
      "Goodbye, Alice!\n"
     ]
    }
   ],
   "source": [
    "def say_hello(name):\n",
    "    message = f\"Hello, {name}!\"\n",
    "    return message\n",
    "\n",
    "def say_goodbye(name):\n",
    "    message = f\"Goodbye, {name}!\"\n",
    "    return message\n",
    "\n",
    "print(say_hello(\"Alice\"))\n",
    "print(say_goodbye(\"Alice\"))"
   ]
  },
  {
   "cell_type": "markdown",
   "id": "spectacular-belgium",
   "metadata": {
    "slideshow": {
     "slide_type": "notes"
    }
   },
   "source": [
    "In this example, we have two sets of variables that have the same name: `name` and `message` are both used in the definitions of `say_hello` and `say_goodbye`. Python's scoping rules allow us to define these functions in this way, because there is no ambiguity about which name refers to which value. A fresh local scope is created for each function call. For example:"
   ]
  },
  {
   "cell_type": "code",
   "execution_count": null,
   "id": "tight-brazil",
   "metadata": {
    "slideshow": {
     "slide_type": "slide"
    }
   },
   "outputs": [],
   "source": [
    "print(say_hello(\"Bob\"))\n",
    "print(say_hello(\"Alice\"))"
   ]
  },
  {
   "cell_type": "markdown",
   "id": "gentle-capacity",
   "metadata": {
    "slideshow": {
     "slide_type": "fragment"
    }
   },
   "source": [
    "In this example, we call the `say_hello` function twice, each time with different parameters. This creates a new instance of both the `name` and `message` variables, within their own scope, each time the function is called.\n",
    "\n",
    "Finally, we can also create variables in the global scope. For example:"
   ]
  },
  {
   "cell_type": "code",
   "execution_count": null,
   "id": "neither-people",
   "metadata": {
    "slideshow": {
     "slide_type": "slide"
    }
   },
   "outputs": [],
   "source": [
    "time_of_day = \"morning\"\n",
    "\n",
    "def say_hello(name):\n",
    "    message = f\"Good {time_of_day}, {name}!\"\n",
    "    return message\n",
    "\n",
    "print(say_hello(\"Alice\"))"
   ]
  },
  {
   "cell_type": "markdown",
   "id": "stretch-waters",
   "metadata": {
    "slideshow": {
     "slide_type": "notes"
    }
   },
   "source": [
    "Here, we have defined a variable, `time_of_day`, in the global scope. That means that this variable is available throughout the code, any where after it has been defined. This is useful for sharing data throughout different functions. However, it is easy to misuse the global scope: you should consider whether or not data might be better passed as an argument to the function.\n",
    "\n",
    "We might define variables with the same name in different scopes:"
   ]
  },
  {
   "cell_type": "code",
   "execution_count": 11,
   "id": "tender-marsh",
   "metadata": {
    "slideshow": {
     "slide_type": "slide"
    }
   },
   "outputs": [
    {
     "name": "stdout",
     "output_type": "stream",
     "text": [
      "hello, bob!\n",
      "Good morning, Alice!\n"
     ]
    }
   ],
   "source": [
    "message = \"hello, bob!\"\n",
    "time_of_day = \"morning\"\n",
    "\n",
    "def say_hello(name):\n",
    "    message = f\"Good {time_of_day}, {name}!\"\n",
    "    return message\n",
    "\n",
    "print(message)\n",
    "print(say_hello(\"Alice\"))"
   ]
  },
  {
   "cell_type": "markdown",
   "id": "aware-parcel",
   "metadata": {
    "slideshow": {
     "slide_type": "notes"
    }
   },
   "source": [
    "In this example, we've defined two `message` variables: the first is in the global scope, while the second, set in the `say_hello` function, is in its local scope. Python's scoping rules mean that statements and expressions will refer to the name in the closest scope, preferring the local and then global scope. However, while these rules allow your code to run unambiguously, you should generally avoid reusing variable names in different scopes: it can make your code more difficult to read and debug."
   ]
  },
  {
   "cell_type": "markdown",
   "id": "crucial-tobago",
   "metadata": {
    "slideshow": {
     "slide_type": "slide"
    }
   },
   "source": [
    "## Using functions to improve your code\n",
    "\n",
    "Now that we've been introduced to functions and the scoping rules that apply to them, we can see that there might be a number of reasons to make use of functions in our code:\n",
    "- To split our code into blocks that are easier to write, and to debug later;\n",
    "- To make it easier to reuse code, within the same program, across different programs, and across different projects;\n",
    "- To make use of the scoping rules that give us a new _local scope_ to work within.\n",
    "\n",
    "In general, as you write longer programs, you should be thinking about dividing your code into functions. Broadly, we wants to write functions that are small (in the order of 10s of lines of code) and that do one thing. In the problem set for this tutorial, we'll explore when and how to write useful functions.\n",
    "\n",
    "\n"
   ]
  },
  {
   "cell_type": "markdown",
   "id": "alien-frame",
   "metadata": {
    "slideshow": {
     "slide_type": "slide"
    }
   },
   "source": [
    "## Summary\n",
    "\n",
    "In this tutorial, we've recapped a number of Python concepts, including:\n",
    "- Data types;\n",
    "- Formatted strings;\n",
    "- Getting input from the keyboard;\n",
    "- If statements;\n",
    "- Loops and iteration;\n",
    "- Data structures, like lists, dictionaries, and tuples; and\n",
    "- Functions."
   ]
  }
 ],
 "metadata": {
  "kernelspec": {
   "display_name": "nlptools",
   "language": "python",
   "name": "python3"
  },
  "language_info": {
   "codemirror_mode": {
    "name": "ipython",
    "version": 3
   },
   "file_extension": ".py",
   "mimetype": "text/x-python",
   "name": "python",
   "nbconvert_exporter": "python",
   "pygments_lexer": "ipython3",
   "version": "3.12.7"
  }
 },
 "nbformat": 4,
 "nbformat_minor": 5
}
